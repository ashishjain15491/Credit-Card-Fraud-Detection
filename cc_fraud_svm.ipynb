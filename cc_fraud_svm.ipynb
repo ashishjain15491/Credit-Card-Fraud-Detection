{
 "cells": [
  {
   "cell_type": "code",
   "execution_count": 2,
   "metadata": {
    "_cell_guid": "4a36ed59-1b92-4395-bab1-2509f76518ae",
    "_uuid": "95e1df618273182dce3c07c4e5d316c6a54f08cf"
   },
   "outputs": [],
   "source": [
    "\n",
    "import pandas as pd \n",
    "import numpy as np\n",
    "\n",
    "from sklearn import preprocessing\n",
    "from sklearn.metrics import confusion_matrix\n",
    "from sklearn import svm\n",
    "\n",
    "import itertools\n",
    "\n",
    "import matplotlib.pyplot as plt\n",
    "import matplotlib.mlab as mlab\n",
    "\n",
    "import seaborn\n",
    "\n",
    "%matplotlib inline"
   ]
  },
  {
   "cell_type": "code",
   "execution_count": 3,
   "metadata": {
    "_cell_guid": "95f30dd3-7b08-4087-b156-5bf3250ce742",
    "_uuid": "dc31e50ac68836610ff16246bbda63d7ae6db49b"
   },
   "outputs": [],
   "source": [
    "ccdf = pd.read_csv('creditcard.csv') \n"
   ]
  },
  {
   "cell_type": "code",
   "execution_count": 4,
   "metadata": {
    "_cell_guid": "4c375090-4893-4b92-ad94-abb3fbc60e22",
    "_uuid": "504f7342684d5bb9d64acbd7f48c89c2846e69a9"
   },
   "outputs": [
    {
     "data": {
      "text/html": [
       "<div>\n",
       "<style scoped>\n",
       "    .dataframe tbody tr th:only-of-type {\n",
       "        vertical-align: middle;\n",
       "    }\n",
       "\n",
       "    .dataframe tbody tr th {\n",
       "        vertical-align: top;\n",
       "    }\n",
       "\n",
       "    .dataframe thead th {\n",
       "        text-align: right;\n",
       "    }\n",
       "</style>\n",
       "<table border=\"1\" class=\"dataframe\">\n",
       "  <thead>\n",
       "    <tr style=\"text-align: right;\">\n",
       "      <th></th>\n",
       "      <th>Time</th>\n",
       "      <th>V1</th>\n",
       "      <th>V2</th>\n",
       "      <th>V3</th>\n",
       "      <th>V4</th>\n",
       "      <th>V5</th>\n",
       "      <th>V6</th>\n",
       "      <th>V7</th>\n",
       "      <th>V8</th>\n",
       "      <th>V9</th>\n",
       "      <th>...</th>\n",
       "      <th>V21</th>\n",
       "      <th>V22</th>\n",
       "      <th>V23</th>\n",
       "      <th>V24</th>\n",
       "      <th>V25</th>\n",
       "      <th>V26</th>\n",
       "      <th>V27</th>\n",
       "      <th>V28</th>\n",
       "      <th>Amount</th>\n",
       "      <th>Class</th>\n",
       "    </tr>\n",
       "  </thead>\n",
       "  <tbody>\n",
       "    <tr>\n",
       "      <th>count</th>\n",
       "      <td>284807.000000</td>\n",
       "      <td>2.848070e+05</td>\n",
       "      <td>2.848070e+05</td>\n",
       "      <td>2.848070e+05</td>\n",
       "      <td>2.848070e+05</td>\n",
       "      <td>2.848070e+05</td>\n",
       "      <td>2.848070e+05</td>\n",
       "      <td>2.848070e+05</td>\n",
       "      <td>2.848070e+05</td>\n",
       "      <td>2.848070e+05</td>\n",
       "      <td>...</td>\n",
       "      <td>2.848070e+05</td>\n",
       "      <td>2.848070e+05</td>\n",
       "      <td>2.848070e+05</td>\n",
       "      <td>2.848070e+05</td>\n",
       "      <td>2.848070e+05</td>\n",
       "      <td>2.848070e+05</td>\n",
       "      <td>2.848070e+05</td>\n",
       "      <td>2.848070e+05</td>\n",
       "      <td>284807.000000</td>\n",
       "      <td>284807.000000</td>\n",
       "    </tr>\n",
       "    <tr>\n",
       "      <th>mean</th>\n",
       "      <td>94813.859575</td>\n",
       "      <td>3.919560e-15</td>\n",
       "      <td>5.688174e-16</td>\n",
       "      <td>-8.769071e-15</td>\n",
       "      <td>2.782312e-15</td>\n",
       "      <td>-1.552563e-15</td>\n",
       "      <td>2.010663e-15</td>\n",
       "      <td>-1.694249e-15</td>\n",
       "      <td>-1.927028e-16</td>\n",
       "      <td>-3.137024e-15</td>\n",
       "      <td>...</td>\n",
       "      <td>1.537294e-16</td>\n",
       "      <td>7.959909e-16</td>\n",
       "      <td>5.367590e-16</td>\n",
       "      <td>4.458112e-15</td>\n",
       "      <td>1.453003e-15</td>\n",
       "      <td>1.699104e-15</td>\n",
       "      <td>-3.660161e-16</td>\n",
       "      <td>-1.206049e-16</td>\n",
       "      <td>88.349619</td>\n",
       "      <td>0.001727</td>\n",
       "    </tr>\n",
       "    <tr>\n",
       "      <th>std</th>\n",
       "      <td>47488.145955</td>\n",
       "      <td>1.958696e+00</td>\n",
       "      <td>1.651309e+00</td>\n",
       "      <td>1.516255e+00</td>\n",
       "      <td>1.415869e+00</td>\n",
       "      <td>1.380247e+00</td>\n",
       "      <td>1.332271e+00</td>\n",
       "      <td>1.237094e+00</td>\n",
       "      <td>1.194353e+00</td>\n",
       "      <td>1.098632e+00</td>\n",
       "      <td>...</td>\n",
       "      <td>7.345240e-01</td>\n",
       "      <td>7.257016e-01</td>\n",
       "      <td>6.244603e-01</td>\n",
       "      <td>6.056471e-01</td>\n",
       "      <td>5.212781e-01</td>\n",
       "      <td>4.822270e-01</td>\n",
       "      <td>4.036325e-01</td>\n",
       "      <td>3.300833e-01</td>\n",
       "      <td>250.120109</td>\n",
       "      <td>0.041527</td>\n",
       "    </tr>\n",
       "    <tr>\n",
       "      <th>min</th>\n",
       "      <td>0.000000</td>\n",
       "      <td>-5.640751e+01</td>\n",
       "      <td>-7.271573e+01</td>\n",
       "      <td>-4.832559e+01</td>\n",
       "      <td>-5.683171e+00</td>\n",
       "      <td>-1.137433e+02</td>\n",
       "      <td>-2.616051e+01</td>\n",
       "      <td>-4.355724e+01</td>\n",
       "      <td>-7.321672e+01</td>\n",
       "      <td>-1.343407e+01</td>\n",
       "      <td>...</td>\n",
       "      <td>-3.483038e+01</td>\n",
       "      <td>-1.093314e+01</td>\n",
       "      <td>-4.480774e+01</td>\n",
       "      <td>-2.836627e+00</td>\n",
       "      <td>-1.029540e+01</td>\n",
       "      <td>-2.604551e+00</td>\n",
       "      <td>-2.256568e+01</td>\n",
       "      <td>-1.543008e+01</td>\n",
       "      <td>0.000000</td>\n",
       "      <td>0.000000</td>\n",
       "    </tr>\n",
       "    <tr>\n",
       "      <th>25%</th>\n",
       "      <td>54201.500000</td>\n",
       "      <td>-9.203734e-01</td>\n",
       "      <td>-5.985499e-01</td>\n",
       "      <td>-8.903648e-01</td>\n",
       "      <td>-8.486401e-01</td>\n",
       "      <td>-6.915971e-01</td>\n",
       "      <td>-7.682956e-01</td>\n",
       "      <td>-5.540759e-01</td>\n",
       "      <td>-2.086297e-01</td>\n",
       "      <td>-6.430976e-01</td>\n",
       "      <td>...</td>\n",
       "      <td>-2.283949e-01</td>\n",
       "      <td>-5.423504e-01</td>\n",
       "      <td>-1.618463e-01</td>\n",
       "      <td>-3.545861e-01</td>\n",
       "      <td>-3.171451e-01</td>\n",
       "      <td>-3.269839e-01</td>\n",
       "      <td>-7.083953e-02</td>\n",
       "      <td>-5.295979e-02</td>\n",
       "      <td>5.600000</td>\n",
       "      <td>0.000000</td>\n",
       "    </tr>\n",
       "    <tr>\n",
       "      <th>50%</th>\n",
       "      <td>84692.000000</td>\n",
       "      <td>1.810880e-02</td>\n",
       "      <td>6.548556e-02</td>\n",
       "      <td>1.798463e-01</td>\n",
       "      <td>-1.984653e-02</td>\n",
       "      <td>-5.433583e-02</td>\n",
       "      <td>-2.741871e-01</td>\n",
       "      <td>4.010308e-02</td>\n",
       "      <td>2.235804e-02</td>\n",
       "      <td>-5.142873e-02</td>\n",
       "      <td>...</td>\n",
       "      <td>-2.945017e-02</td>\n",
       "      <td>6.781943e-03</td>\n",
       "      <td>-1.119293e-02</td>\n",
       "      <td>4.097606e-02</td>\n",
       "      <td>1.659350e-02</td>\n",
       "      <td>-5.213911e-02</td>\n",
       "      <td>1.342146e-03</td>\n",
       "      <td>1.124383e-02</td>\n",
       "      <td>22.000000</td>\n",
       "      <td>0.000000</td>\n",
       "    </tr>\n",
       "    <tr>\n",
       "      <th>75%</th>\n",
       "      <td>139320.500000</td>\n",
       "      <td>1.315642e+00</td>\n",
       "      <td>8.037239e-01</td>\n",
       "      <td>1.027196e+00</td>\n",
       "      <td>7.433413e-01</td>\n",
       "      <td>6.119264e-01</td>\n",
       "      <td>3.985649e-01</td>\n",
       "      <td>5.704361e-01</td>\n",
       "      <td>3.273459e-01</td>\n",
       "      <td>5.971390e-01</td>\n",
       "      <td>...</td>\n",
       "      <td>1.863772e-01</td>\n",
       "      <td>5.285536e-01</td>\n",
       "      <td>1.476421e-01</td>\n",
       "      <td>4.395266e-01</td>\n",
       "      <td>3.507156e-01</td>\n",
       "      <td>2.409522e-01</td>\n",
       "      <td>9.104512e-02</td>\n",
       "      <td>7.827995e-02</td>\n",
       "      <td>77.165000</td>\n",
       "      <td>0.000000</td>\n",
       "    </tr>\n",
       "    <tr>\n",
       "      <th>max</th>\n",
       "      <td>172792.000000</td>\n",
       "      <td>2.454930e+00</td>\n",
       "      <td>2.205773e+01</td>\n",
       "      <td>9.382558e+00</td>\n",
       "      <td>1.687534e+01</td>\n",
       "      <td>3.480167e+01</td>\n",
       "      <td>7.330163e+01</td>\n",
       "      <td>1.205895e+02</td>\n",
       "      <td>2.000721e+01</td>\n",
       "      <td>1.559499e+01</td>\n",
       "      <td>...</td>\n",
       "      <td>2.720284e+01</td>\n",
       "      <td>1.050309e+01</td>\n",
       "      <td>2.252841e+01</td>\n",
       "      <td>4.584549e+00</td>\n",
       "      <td>7.519589e+00</td>\n",
       "      <td>3.517346e+00</td>\n",
       "      <td>3.161220e+01</td>\n",
       "      <td>3.384781e+01</td>\n",
       "      <td>25691.160000</td>\n",
       "      <td>1.000000</td>\n",
       "    </tr>\n",
       "  </tbody>\n",
       "</table>\n",
       "<p>8 rows × 31 columns</p>\n",
       "</div>"
      ],
      "text/plain": [
       "                Time            V1            V2            V3            V4  \\\n",
       "count  284807.000000  2.848070e+05  2.848070e+05  2.848070e+05  2.848070e+05   \n",
       "mean    94813.859575  3.919560e-15  5.688174e-16 -8.769071e-15  2.782312e-15   \n",
       "std     47488.145955  1.958696e+00  1.651309e+00  1.516255e+00  1.415869e+00   \n",
       "min         0.000000 -5.640751e+01 -7.271573e+01 -4.832559e+01 -5.683171e+00   \n",
       "25%     54201.500000 -9.203734e-01 -5.985499e-01 -8.903648e-01 -8.486401e-01   \n",
       "50%     84692.000000  1.810880e-02  6.548556e-02  1.798463e-01 -1.984653e-02   \n",
       "75%    139320.500000  1.315642e+00  8.037239e-01  1.027196e+00  7.433413e-01   \n",
       "max    172792.000000  2.454930e+00  2.205773e+01  9.382558e+00  1.687534e+01   \n",
       "\n",
       "                 V5            V6            V7            V8            V9  \\\n",
       "count  2.848070e+05  2.848070e+05  2.848070e+05  2.848070e+05  2.848070e+05   \n",
       "mean  -1.552563e-15  2.010663e-15 -1.694249e-15 -1.927028e-16 -3.137024e-15   \n",
       "std    1.380247e+00  1.332271e+00  1.237094e+00  1.194353e+00  1.098632e+00   \n",
       "min   -1.137433e+02 -2.616051e+01 -4.355724e+01 -7.321672e+01 -1.343407e+01   \n",
       "25%   -6.915971e-01 -7.682956e-01 -5.540759e-01 -2.086297e-01 -6.430976e-01   \n",
       "50%   -5.433583e-02 -2.741871e-01  4.010308e-02  2.235804e-02 -5.142873e-02   \n",
       "75%    6.119264e-01  3.985649e-01  5.704361e-01  3.273459e-01  5.971390e-01   \n",
       "max    3.480167e+01  7.330163e+01  1.205895e+02  2.000721e+01  1.559499e+01   \n",
       "\n",
       "       ...           V21           V22           V23           V24  \\\n",
       "count  ...  2.848070e+05  2.848070e+05  2.848070e+05  2.848070e+05   \n",
       "mean   ...  1.537294e-16  7.959909e-16  5.367590e-16  4.458112e-15   \n",
       "std    ...  7.345240e-01  7.257016e-01  6.244603e-01  6.056471e-01   \n",
       "min    ... -3.483038e+01 -1.093314e+01 -4.480774e+01 -2.836627e+00   \n",
       "25%    ... -2.283949e-01 -5.423504e-01 -1.618463e-01 -3.545861e-01   \n",
       "50%    ... -2.945017e-02  6.781943e-03 -1.119293e-02  4.097606e-02   \n",
       "75%    ...  1.863772e-01  5.285536e-01  1.476421e-01  4.395266e-01   \n",
       "max    ...  2.720284e+01  1.050309e+01  2.252841e+01  4.584549e+00   \n",
       "\n",
       "                V25           V26           V27           V28         Amount  \\\n",
       "count  2.848070e+05  2.848070e+05  2.848070e+05  2.848070e+05  284807.000000   \n",
       "mean   1.453003e-15  1.699104e-15 -3.660161e-16 -1.206049e-16      88.349619   \n",
       "std    5.212781e-01  4.822270e-01  4.036325e-01  3.300833e-01     250.120109   \n",
       "min   -1.029540e+01 -2.604551e+00 -2.256568e+01 -1.543008e+01       0.000000   \n",
       "25%   -3.171451e-01 -3.269839e-01 -7.083953e-02 -5.295979e-02       5.600000   \n",
       "50%    1.659350e-02 -5.213911e-02  1.342146e-03  1.124383e-02      22.000000   \n",
       "75%    3.507156e-01  2.409522e-01  9.104512e-02  7.827995e-02      77.165000   \n",
       "max    7.519589e+00  3.517346e+00  3.161220e+01  3.384781e+01   25691.160000   \n",
       "\n",
       "               Class  \n",
       "count  284807.000000  \n",
       "mean        0.001727  \n",
       "std         0.041527  \n",
       "min         0.000000  \n",
       "25%         0.000000  \n",
       "50%         0.000000  \n",
       "75%         0.000000  \n",
       "max         1.000000  \n",
       "\n",
       "[8 rows x 31 columns]"
      ]
     },
     "execution_count": 4,
     "metadata": {},
     "output_type": "execute_result"
    }
   ],
   "source": [
    "ccdf.describe() "
   ]
  },
  {
   "cell_type": "code",
   "execution_count": 2,
   "metadata": {
    "_cell_guid": "b3cd20ab-f13e-4083-9c36-9291414694c2",
    "_uuid": "232bc475856a4f5e92083e1757242020100ee284"
   },
   "outputs": [],
   "source": []
  },
  {
   "cell_type": "code",
   "execution_count": null,
   "metadata": {
    "_cell_guid": "ae7d0f5e-f323-46f6-a454-a2a8065af693",
    "_uuid": "dda60fcd5cb9953205c5ae716fcdf7cd5682f9eb"
   },
   "outputs": [],
   "source": []
  },
  {
   "cell_type": "code",
   "execution_count": 3,
   "metadata": {
    "_cell_guid": "baeaea24-4736-473a-a85c-cbc3ddde9ed3",
    "_uuid": "9d450721809ddf6aa0754b705062bfdf837d9c54",
    "collapsed": true
   },
   "outputs": [],
   "source": []
  },
  {
   "cell_type": "code",
   "execution_count": null,
   "metadata": {
    "_cell_guid": "6aade7ce-2b87-4cd0-a998-3a54ac14d4df",
    "_uuid": "4eafc2bb6228637b51ba4e1c97ded7456440cd0f"
   },
   "outputs": [],
   "source": []
  },
  {
   "cell_type": "code",
   "execution_count": 5,
   "metadata": {
    "_cell_guid": "aaf455b3-f3a1-4316-99c6-cbd4c0a8b33d",
    "_uuid": "346c8874f9118fcbcea8f028804179eed54eca69"
   },
   "outputs": [
    {
     "data": {
      "image/png": "[encoded data removed]",
      "text/plain": [
       "<Figure size 1296x864 with 1 Axes>"
      ]
     },
     "metadata": {
      "needs_background": "light"
     },
     "output_type": "display_data"
    }
   ],
   "source": [
    "ccdf_fraud = ccdf[ccdf['Class'] == 1] \n",
    "plt.figure(figsize=(18,12))\n",
    "plt.scatter(ccdf_fraud['Time'], ccdf_fraud['Amount']) \n",
    "plt.title('Number of fraud')\n",
    "plt.xlabel('Time')\n",
    "plt.ylabel('Fraud Amount')\n",
    "plt.xlim([0,180000])\n",
    "plt.ylim([0,3000])\n",
    "plt.show()"
   ]
  },
  {
   "cell_type": "code",
   "execution_count": 6,
   "metadata": {
    "_cell_guid": "970cef6c-01b8-4d61-a3b5-38c3398f9c6f",
    "_uuid": "61c0ec8f7ae47ca9514c2cf3d1e729ba7c528c4e"
   },
   "outputs": [
    {
     "name": "stdout",
     "output_type": "stream",
     "text": [
      "There are 130 number frauds where thefraud amount was greater than $100 out of 492 total frauds\n"
     ]
    }
   ],
   "source": [
    "fraud_amnt_comp = ccdf_fraud[ccdf_fraud['Amount'] > 100].shape[0] \n",
    "print('There are '+ str(fraud_amnt_comp) + ' number frauds where thefraud amount was greater than $100 out of ' + str(ccdf_fraud.shape[0]) + ' total frauds')"
   ]
  },
  {
   "cell_type": "code",
   "execution_count": 7,
   "metadata": {
    "_cell_guid": "8b77e909-ab26-4783-8005-bf591d66cf5b",
    "_uuid": "9a273b886643735328b0666edf70d12807804fe1"
   },
   "outputs": [
    {
     "name": "stdout",
     "output_type": "stream",
     "text": [
      "There are 35number frauds where the fraud amount was greater than $500 out of 492 total frauds\n"
     ]
    }
   ],
   "source": [
    "fraud_amnt_comp = ccdf_fraud[ccdf_fraud['Amount'] > 500].shape[0] \n",
    "print('There are '+ str(fraud_amnt_comp) + 'number frauds where the fraud amount was greater than $500 out of ' + str(ccdf_fraud.shape[0]) + ' total frauds')"
   ]
  },
  {
   "cell_type": "code",
   "execution_count": 9,
   "metadata": {
    "_cell_guid": "43c05bc7-c327-4120-9a4b-9b319457a0b5",
    "_uuid": "c5b9104e688e7bcee494645969a7c8360aff515e"
   },
   "outputs": [
    {
     "name": "stdout",
     "output_type": "stream",
     "text": [
      "There are only 9 number frauds where thefraud amount was greater than $1000 out of 492 total frauds\n"
     ]
    }
   ],
   "source": [
    "fraud_amnt_comp = ccdf_fraud[ccdf_fraud['Amount'] > 1000].shape[0] \n",
    "print('There are only '+ str(fraud_amnt_comp) + ' number frauds where thefraud amount was greater than $1000 out of ' + str(ccdf_fraud.shape[0]) + ' total frauds')"
   ]
  },
  {
   "cell_type": "code",
   "execution_count": 10,
   "metadata": {
    "_cell_guid": "02332e68-9fec-48c5-89cd-06ce360f2e9c",
    "_uuid": "bd071ed3ed6dcf625adc45196f615d62cd462ab1"
   },
   "outputs": [
    {
     "name": "stdout",
     "output_type": "stream",
     "text": [
      "There are only 492 frauds in the original dataset, even though there are 284315 no frauds in the dataset.\n"
     ]
    }
   ],
   "source": [
    "total_number_fraud = len(ccdf[ccdf.Class == 1])\n",
    "legit_transac = len(ccdf[ccdf.Class == 0])\n",
    "print('There are only '+ str(total_number_fraud) + ' frauds in the original dataset, even though there are ' + str(legit_transac) +' no frauds in the dataset.')"
   ]
  },
  {
   "cell_type": "markdown",
   "metadata": {
    "_cell_guid": "a78cfc34-d5a4-45b7-abc1-c70dec7e1c9b",
    "_uuid": "0fa59cb4bb66a0c62d3edb6eb2650d64e19fc113"
   },
   "source": []
  },
  {
   "cell_type": "code",
   "execution_count": null,
   "metadata": {
    "_cell_guid": "32763345-e2ac-455b-9265-50bcc304da07",
    "_uuid": "5139011572ad26820d148f408fb3d839899331b5"
   },
   "outputs": [],
   "source": []
  },
  {
   "cell_type": "markdown",
   "metadata": {
    "_cell_guid": "527f2804-0aa7-4220-aa9b-03f6b8c0a9fe",
    "_uuid": "8a4df6becaba62481d52118f944612c8c579b8e7"
   },
   "source": []
  },
  {
   "cell_type": "markdown",
   "metadata": {
    "_cell_guid": "934444aa-0a22-4b60-b363-c4af3ab8ffe9",
    "_uuid": "ce9fa83195b843375a102593ee1ece0b9efdad97"
   },
   "source": [
    "# Correlation of features"
   ]
  },
  {
   "cell_type": "code",
   "execution_count": 11,
   "metadata": {
    "_cell_guid": "a575fa45-aa54-42d8-bc41-7901109b0a30",
    "_uuid": "c79fd2aee5021d4f09523411513e43220bede053"
   },
   "outputs": [
    {
     "data": {
      "text/html": [
       "<div>\n",
       "<style scoped>\n",
       "    .dataframe tbody tr th:only-of-type {\n",
       "        vertical-align: middle;\n",
       "    }\n",
       "\n",
       "    .dataframe tbody tr th {\n",
       "        vertical-align: top;\n",
       "    }\n",
       "\n",
       "    .dataframe thead th {\n",
       "        text-align: right;\n",
       "    }\n",
       "</style>\n",
       "<table border=\"1\" class=\"dataframe\">\n",
       "  <thead>\n",
       "    <tr style=\"text-align: right;\">\n",
       "      <th></th>\n",
       "      <th>Time</th>\n",
       "      <th>V1</th>\n",
       "      <th>V2</th>\n",
       "      <th>V3</th>\n",
       "      <th>V4</th>\n",
       "      <th>V5</th>\n",
       "      <th>V6</th>\n",
       "      <th>V7</th>\n",
       "      <th>V8</th>\n",
       "      <th>V9</th>\n",
       "      <th>...</th>\n",
       "      <th>V21</th>\n",
       "      <th>V22</th>\n",
       "      <th>V23</th>\n",
       "      <th>V24</th>\n",
       "      <th>V25</th>\n",
       "      <th>V26</th>\n",
       "      <th>V27</th>\n",
       "      <th>V28</th>\n",
       "      <th>Amount</th>\n",
       "      <th>Class</th>\n",
       "    </tr>\n",
       "  </thead>\n",
       "  <tbody>\n",
       "    <tr>\n",
       "      <th>Time</th>\n",
       "      <td>1.000000</td>\n",
       "      <td>1.173963e-01</td>\n",
       "      <td>-1.059333e-02</td>\n",
       "      <td>-4.196182e-01</td>\n",
       "      <td>-1.052602e-01</td>\n",
       "      <td>1.730721e-01</td>\n",
       "      <td>-6.301647e-02</td>\n",
       "      <td>8.471437e-02</td>\n",
       "      <td>-3.694943e-02</td>\n",
       "      <td>-8.660434e-03</td>\n",
       "      <td>...</td>\n",
       "      <td>4.473573e-02</td>\n",
       "      <td>1.440591e-01</td>\n",
       "      <td>5.114236e-02</td>\n",
       "      <td>-1.618187e-02</td>\n",
       "      <td>-2.330828e-01</td>\n",
       "      <td>-4.140710e-02</td>\n",
       "      <td>-5.134591e-03</td>\n",
       "      <td>-9.412688e-03</td>\n",
       "      <td>-0.010596</td>\n",
       "      <td>-0.012323</td>\n",
       "    </tr>\n",
       "    <tr>\n",
       "      <th>V1</th>\n",
       "      <td>0.117396</td>\n",
       "      <td>1.000000e+00</td>\n",
       "      <td>4.697350e-17</td>\n",
       "      <td>-1.424390e-15</td>\n",
       "      <td>1.755316e-17</td>\n",
       "      <td>6.391162e-17</td>\n",
       "      <td>2.398071e-16</td>\n",
       "      <td>1.991550e-15</td>\n",
       "      <td>-9.490675e-17</td>\n",
       "      <td>2.169581e-16</td>\n",
       "      <td>...</td>\n",
       "      <td>-1.755072e-16</td>\n",
       "      <td>7.477367e-17</td>\n",
       "      <td>9.808705e-16</td>\n",
       "      <td>7.354269e-17</td>\n",
       "      <td>-9.805358e-16</td>\n",
       "      <td>-8.621897e-17</td>\n",
       "      <td>3.208233e-17</td>\n",
       "      <td>9.820892e-16</td>\n",
       "      <td>-0.227709</td>\n",
       "      <td>-0.101347</td>\n",
       "    </tr>\n",
       "    <tr>\n",
       "      <th>V2</th>\n",
       "      <td>-0.010593</td>\n",
       "      <td>4.697350e-17</td>\n",
       "      <td>1.000000e+00</td>\n",
       "      <td>2.512175e-16</td>\n",
       "      <td>-1.126388e-16</td>\n",
       "      <td>-2.039868e-16</td>\n",
       "      <td>5.024680e-16</td>\n",
       "      <td>3.966486e-16</td>\n",
       "      <td>-4.413984e-17</td>\n",
       "      <td>-5.728718e-17</td>\n",
       "      <td>...</td>\n",
       "      <td>8.444409e-17</td>\n",
       "      <td>2.500830e-16</td>\n",
       "      <td>1.059562e-16</td>\n",
       "      <td>-8.142354e-18</td>\n",
       "      <td>-4.261894e-17</td>\n",
       "      <td>2.601622e-16</td>\n",
       "      <td>-4.478472e-16</td>\n",
       "      <td>-3.676415e-16</td>\n",
       "      <td>-0.531409</td>\n",
       "      <td>0.091289</td>\n",
       "    </tr>\n",
       "    <tr>\n",
       "      <th>V3</th>\n",
       "      <td>-0.419618</td>\n",
       "      <td>-1.424390e-15</td>\n",
       "      <td>2.512175e-16</td>\n",
       "      <td>1.000000e+00</td>\n",
       "      <td>-3.416910e-16</td>\n",
       "      <td>-1.436514e-15</td>\n",
       "      <td>1.431581e-15</td>\n",
       "      <td>2.168574e-15</td>\n",
       "      <td>3.433113e-16</td>\n",
       "      <td>-4.233770e-16</td>\n",
       "      <td>...</td>\n",
       "      <td>-2.971969e-17</td>\n",
       "      <td>4.648259e-16</td>\n",
       "      <td>2.115206e-17</td>\n",
       "      <td>-9.351637e-17</td>\n",
       "      <td>4.771164e-16</td>\n",
       "      <td>6.521501e-16</td>\n",
       "      <td>6.239832e-16</td>\n",
       "      <td>7.726948e-16</td>\n",
       "      <td>-0.210880</td>\n",
       "      <td>-0.192961</td>\n",
       "    </tr>\n",
       "    <tr>\n",
       "      <th>V4</th>\n",
       "      <td>-0.105260</td>\n",
       "      <td>1.755316e-17</td>\n",
       "      <td>-1.126388e-16</td>\n",
       "      <td>-3.416910e-16</td>\n",
       "      <td>1.000000e+00</td>\n",
       "      <td>-1.940929e-15</td>\n",
       "      <td>-2.712659e-16</td>\n",
       "      <td>1.556330e-16</td>\n",
       "      <td>5.195643e-16</td>\n",
       "      <td>3.859585e-16</td>\n",
       "      <td>...</td>\n",
       "      <td>-9.976950e-17</td>\n",
       "      <td>2.099922e-16</td>\n",
       "      <td>6.002528e-17</td>\n",
       "      <td>2.229738e-16</td>\n",
       "      <td>5.394585e-16</td>\n",
       "      <td>-6.179751e-16</td>\n",
       "      <td>-6.403423e-17</td>\n",
       "      <td>-5.863664e-17</td>\n",
       "      <td>0.098732</td>\n",
       "      <td>0.133447</td>\n",
       "    </tr>\n",
       "    <tr>\n",
       "      <th>V5</th>\n",
       "      <td>0.173072</td>\n",
       "      <td>6.391162e-17</td>\n",
       "      <td>-2.039868e-16</td>\n",
       "      <td>-1.436514e-15</td>\n",
       "      <td>-1.940929e-15</td>\n",
       "      <td>1.000000e+00</td>\n",
       "      <td>7.926364e-16</td>\n",
       "      <td>-4.209851e-16</td>\n",
       "      <td>7.589187e-16</td>\n",
       "      <td>4.205206e-16</td>\n",
       "      <td>...</td>\n",
       "      <td>-1.368701e-16</td>\n",
       "      <td>5.060029e-16</td>\n",
       "      <td>1.637596e-16</td>\n",
       "      <td>-9.286095e-16</td>\n",
       "      <td>5.625102e-16</td>\n",
       "      <td>9.144690e-16</td>\n",
       "      <td>4.465960e-16</td>\n",
       "      <td>-3.299167e-16</td>\n",
       "      <td>-0.386356</td>\n",
       "      <td>-0.094974</td>\n",
       "    </tr>\n",
       "    <tr>\n",
       "      <th>V6</th>\n",
       "      <td>-0.063016</td>\n",
       "      <td>2.398071e-16</td>\n",
       "      <td>5.024680e-16</td>\n",
       "      <td>1.431581e-15</td>\n",
       "      <td>-2.712659e-16</td>\n",
       "      <td>7.926364e-16</td>\n",
       "      <td>1.000000e+00</td>\n",
       "      <td>1.429426e-16</td>\n",
       "      <td>-1.707421e-16</td>\n",
       "      <td>1.114447e-16</td>\n",
       "      <td>...</td>\n",
       "      <td>-1.575903e-16</td>\n",
       "      <td>-3.362902e-16</td>\n",
       "      <td>-7.232186e-17</td>\n",
       "      <td>-1.261867e-15</td>\n",
       "      <td>1.081933e-15</td>\n",
       "      <td>-2.378414e-16</td>\n",
       "      <td>-2.623818e-16</td>\n",
       "      <td>4.813155e-16</td>\n",
       "      <td>0.215981</td>\n",
       "      <td>-0.043643</td>\n",
       "    </tr>\n",
       "    <tr>\n",
       "      <th>V7</th>\n",
       "      <td>0.084714</td>\n",
       "      <td>1.991550e-15</td>\n",
       "      <td>3.966486e-16</td>\n",
       "      <td>2.168574e-15</td>\n",
       "      <td>1.556330e-16</td>\n",
       "      <td>-4.209851e-16</td>\n",
       "      <td>1.429426e-16</td>\n",
       "      <td>1.000000e+00</td>\n",
       "      <td>-8.691834e-17</td>\n",
       "      <td>7.933251e-16</td>\n",
       "      <td>...</td>\n",
       "      <td>1.938604e-16</td>\n",
       "      <td>-1.058131e-15</td>\n",
       "      <td>2.327911e-16</td>\n",
       "      <td>-2.589727e-17</td>\n",
       "      <td>1.174169e-15</td>\n",
       "      <td>-7.334507e-16</td>\n",
       "      <td>-5.886825e-16</td>\n",
       "      <td>-6.836764e-17</td>\n",
       "      <td>0.397311</td>\n",
       "      <td>-0.187257</td>\n",
       "    </tr>\n",
       "    <tr>\n",
       "      <th>V8</th>\n",
       "      <td>-0.036949</td>\n",
       "      <td>-9.490675e-17</td>\n",
       "      <td>-4.413984e-17</td>\n",
       "      <td>3.433113e-16</td>\n",
       "      <td>5.195643e-16</td>\n",
       "      <td>7.589187e-16</td>\n",
       "      <td>-1.707421e-16</td>\n",
       "      <td>-8.691834e-17</td>\n",
       "      <td>1.000000e+00</td>\n",
       "      <td>2.900829e-16</td>\n",
       "      <td>...</td>\n",
       "      <td>-2.412439e-16</td>\n",
       "      <td>5.475559e-16</td>\n",
       "      <td>3.897104e-16</td>\n",
       "      <td>-1.802967e-16</td>\n",
       "      <td>-1.390791e-16</td>\n",
       "      <td>-1.209975e-16</td>\n",
       "      <td>1.733633e-16</td>\n",
       "      <td>-4.484325e-16</td>\n",
       "      <td>-0.103079</td>\n",
       "      <td>0.019875</td>\n",
       "    </tr>\n",
       "    <tr>\n",
       "      <th>V9</th>\n",
       "      <td>-0.008660</td>\n",
       "      <td>2.169581e-16</td>\n",
       "      <td>-5.728718e-17</td>\n",
       "      <td>-4.233770e-16</td>\n",
       "      <td>3.859585e-16</td>\n",
       "      <td>4.205206e-16</td>\n",
       "      <td>1.114447e-16</td>\n",
       "      <td>7.933251e-16</td>\n",
       "      <td>2.900829e-16</td>\n",
       "      <td>1.000000e+00</td>\n",
       "      <td>...</td>\n",
       "      <td>4.578389e-17</td>\n",
       "      <td>2.871855e-17</td>\n",
       "      <td>5.929286e-16</td>\n",
       "      <td>-2.346385e-16</td>\n",
       "      <td>1.099645e-15</td>\n",
       "      <td>-1.388725e-15</td>\n",
       "      <td>-2.287414e-16</td>\n",
       "      <td>9.146779e-16</td>\n",
       "      <td>-0.044246</td>\n",
       "      <td>-0.097733</td>\n",
       "    </tr>\n",
       "    <tr>\n",
       "      <th>V10</th>\n",
       "      <td>0.030617</td>\n",
       "      <td>7.433820e-17</td>\n",
       "      <td>-4.782388e-16</td>\n",
       "      <td>6.289267e-16</td>\n",
       "      <td>6.055490e-16</td>\n",
       "      <td>-6.601716e-16</td>\n",
       "      <td>2.850776e-16</td>\n",
       "      <td>3.043333e-17</td>\n",
       "      <td>9.051847e-17</td>\n",
       "      <td>-2.771761e-16</td>\n",
       "      <td>...</td>\n",
       "      <td>8.089504e-16</td>\n",
       "      <td>-6.707598e-16</td>\n",
       "      <td>3.809732e-16</td>\n",
       "      <td>-4.032806e-17</td>\n",
       "      <td>-2.863813e-16</td>\n",
       "      <td>-2.554293e-16</td>\n",
       "      <td>-3.103239e-16</td>\n",
       "      <td>-1.515934e-16</td>\n",
       "      <td>-0.101502</td>\n",
       "      <td>-0.216883</td>\n",
       "    </tr>\n",
       "    <tr>\n",
       "      <th>V11</th>\n",
       "      <td>-0.247689</td>\n",
       "      <td>2.438580e-16</td>\n",
       "      <td>9.468995e-16</td>\n",
       "      <td>-5.501758e-17</td>\n",
       "      <td>-2.083600e-16</td>\n",
       "      <td>7.342759e-16</td>\n",
       "      <td>4.865799e-16</td>\n",
       "      <td>-1.084105e-15</td>\n",
       "      <td>1.954747e-16</td>\n",
       "      <td>4.682341e-16</td>\n",
       "      <td>...</td>\n",
       "      <td>-3.911893e-16</td>\n",
       "      <td>-3.811640e-17</td>\n",
       "      <td>2.232007e-16</td>\n",
       "      <td>1.219849e-15</td>\n",
       "      <td>-4.567635e-16</td>\n",
       "      <td>-1.110976e-16</td>\n",
       "      <td>-2.635827e-16</td>\n",
       "      <td>-3.091914e-16</td>\n",
       "      <td>0.000104</td>\n",
       "      <td>0.154876</td>\n",
       "    </tr>\n",
       "    <tr>\n",
       "      <th>V12</th>\n",
       "      <td>0.124348</td>\n",
       "      <td>2.422086e-16</td>\n",
       "      <td>-6.588252e-16</td>\n",
       "      <td>2.206522e-16</td>\n",
       "      <td>-5.657963e-16</td>\n",
       "      <td>3.761033e-16</td>\n",
       "      <td>2.140589e-16</td>\n",
       "      <td>1.510045e-15</td>\n",
       "      <td>-6.266057e-17</td>\n",
       "      <td>-2.445230e-15</td>\n",
       "      <td>...</td>\n",
       "      <td>3.229576e-16</td>\n",
       "      <td>-5.903992e-16</td>\n",
       "      <td>1.392162e-16</td>\n",
       "      <td>4.901644e-16</td>\n",
       "      <td>5.053736e-16</td>\n",
       "      <td>-5.759321e-16</td>\n",
       "      <td>-2.312619e-16</td>\n",
       "      <td>7.327446e-16</td>\n",
       "      <td>-0.009542</td>\n",
       "      <td>-0.260593</td>\n",
       "    </tr>\n",
       "    <tr>\n",
       "      <th>V13</th>\n",
       "      <td>-0.065902</td>\n",
       "      <td>-2.115458e-16</td>\n",
       "      <td>3.854521e-16</td>\n",
       "      <td>-6.883375e-16</td>\n",
       "      <td>-1.506129e-16</td>\n",
       "      <td>-9.578659e-16</td>\n",
       "      <td>-2.268061e-16</td>\n",
       "      <td>-9.892325e-17</td>\n",
       "      <td>-2.382948e-16</td>\n",
       "      <td>-2.650351e-16</td>\n",
       "      <td>...</td>\n",
       "      <td>9.499130e-17</td>\n",
       "      <td>-2.659710e-17</td>\n",
       "      <td>-5.884304e-16</td>\n",
       "      <td>-5.470547e-16</td>\n",
       "      <td>8.066738e-17</td>\n",
       "      <td>-2.121518e-16</td>\n",
       "      <td>-4.520414e-16</td>\n",
       "      <td>1.049541e-15</td>\n",
       "      <td>0.005293</td>\n",
       "      <td>-0.004570</td>\n",
       "    </tr>\n",
       "    <tr>\n",
       "      <th>V14</th>\n",
       "      <td>-0.098757</td>\n",
       "      <td>9.352582e-16</td>\n",
       "      <td>-2.541036e-16</td>\n",
       "      <td>4.271336e-16</td>\n",
       "      <td>-8.522435e-17</td>\n",
       "      <td>-3.634803e-16</td>\n",
       "      <td>3.452801e-16</td>\n",
       "      <td>-1.729462e-16</td>\n",
       "      <td>-1.131098e-16</td>\n",
       "      <td>2.343317e-16</td>\n",
       "      <td>...</td>\n",
       "      <td>1.634141e-17</td>\n",
       "      <td>3.439699e-16</td>\n",
       "      <td>7.620728e-17</td>\n",
       "      <td>2.335749e-16</td>\n",
       "      <td>-2.606783e-16</td>\n",
       "      <td>-6.580254e-18</td>\n",
       "      <td>1.285770e-16</td>\n",
       "      <td>2.503271e-15</td>\n",
       "      <td>0.033751</td>\n",
       "      <td>-0.302544</td>\n",
       "    </tr>\n",
       "    <tr>\n",
       "      <th>V15</th>\n",
       "      <td>-0.183453</td>\n",
       "      <td>-3.252451e-16</td>\n",
       "      <td>2.831060e-16</td>\n",
       "      <td>1.122756e-16</td>\n",
       "      <td>-1.507718e-16</td>\n",
       "      <td>-5.132620e-16</td>\n",
       "      <td>-6.368111e-18</td>\n",
       "      <td>1.936832e-17</td>\n",
       "      <td>2.021491e-16</td>\n",
       "      <td>-1.588105e-15</td>\n",
       "      <td>...</td>\n",
       "      <td>1.947458e-17</td>\n",
       "      <td>-8.936817e-16</td>\n",
       "      <td>1.119827e-16</td>\n",
       "      <td>-4.589689e-16</td>\n",
       "      <td>3.869740e-16</td>\n",
       "      <td>3.761094e-16</td>\n",
       "      <td>-1.265235e-15</td>\n",
       "      <td>-1.063286e-15</td>\n",
       "      <td>-0.002986</td>\n",
       "      <td>-0.004223</td>\n",
       "    </tr>\n",
       "    <tr>\n",
       "      <th>V16</th>\n",
       "      <td>0.011903</td>\n",
       "      <td>6.308789e-16</td>\n",
       "      <td>4.934097e-17</td>\n",
       "      <td>1.183364e-15</td>\n",
       "      <td>-6.939204e-16</td>\n",
       "      <td>-3.517076e-16</td>\n",
       "      <td>-2.477917e-16</td>\n",
       "      <td>2.893672e-16</td>\n",
       "      <td>5.027192e-16</td>\n",
       "      <td>-3.251906e-16</td>\n",
       "      <td>...</td>\n",
       "      <td>-3.927401e-16</td>\n",
       "      <td>3.878384e-17</td>\n",
       "      <td>8.519670e-16</td>\n",
       "      <td>-4.289239e-16</td>\n",
       "      <td>-6.644104e-16</td>\n",
       "      <td>-5.186503e-16</td>\n",
       "      <td>7.820038e-16</td>\n",
       "      <td>8.637186e-16</td>\n",
       "      <td>-0.003910</td>\n",
       "      <td>-0.196539</td>\n",
       "    </tr>\n",
       "    <tr>\n",
       "      <th>V17</th>\n",
       "      <td>-0.073297</td>\n",
       "      <td>-5.011524e-16</td>\n",
       "      <td>-9.883008e-16</td>\n",
       "      <td>4.576619e-17</td>\n",
       "      <td>-4.397925e-16</td>\n",
       "      <td>1.425729e-16</td>\n",
       "      <td>3.567582e-16</td>\n",
       "      <td>1.149692e-15</td>\n",
       "      <td>-3.508777e-16</td>\n",
       "      <td>6.535992e-16</td>\n",
       "      <td>...</td>\n",
       "      <td>-7.753967e-16</td>\n",
       "      <td>-8.389703e-16</td>\n",
       "      <td>5.367784e-16</td>\n",
       "      <td>-5.543631e-17</td>\n",
       "      <td>4.822068e-16</td>\n",
       "      <td>4.870302e-16</td>\n",
       "      <td>8.844373e-16</td>\n",
       "      <td>-2.182692e-16</td>\n",
       "      <td>0.007309</td>\n",
       "      <td>-0.326481</td>\n",
       "    </tr>\n",
       "    <tr>\n",
       "      <th>V18</th>\n",
       "      <td>0.090438</td>\n",
       "      <td>2.870125e-16</td>\n",
       "      <td>2.636654e-16</td>\n",
       "      <td>5.427965e-16</td>\n",
       "      <td>1.493667e-16</td>\n",
       "      <td>1.109525e-15</td>\n",
       "      <td>2.811474e-16</td>\n",
       "      <td>-1.116789e-16</td>\n",
       "      <td>-4.093852e-16</td>\n",
       "      <td>1.203843e-16</td>\n",
       "      <td>...</td>\n",
       "      <td>-1.140973e-15</td>\n",
       "      <td>-8.662635e-17</td>\n",
       "      <td>-3.624236e-16</td>\n",
       "      <td>-1.126043e-16</td>\n",
       "      <td>-2.310856e-16</td>\n",
       "      <td>3.183964e-16</td>\n",
       "      <td>2.435170e-16</td>\n",
       "      <td>8.844995e-16</td>\n",
       "      <td>0.035650</td>\n",
       "      <td>-0.111485</td>\n",
       "    </tr>\n",
       "    <tr>\n",
       "      <th>V19</th>\n",
       "      <td>0.028975</td>\n",
       "      <td>1.818128e-16</td>\n",
       "      <td>9.528280e-17</td>\n",
       "      <td>2.576773e-16</td>\n",
       "      <td>-2.656938e-16</td>\n",
       "      <td>-3.138234e-16</td>\n",
       "      <td>2.717167e-16</td>\n",
       "      <td>-2.874017e-16</td>\n",
       "      <td>-5.339821e-16</td>\n",
       "      <td>1.120752e-16</td>\n",
       "      <td>...</td>\n",
       "      <td>4.032541e-16</td>\n",
       "      <td>-9.690436e-16</td>\n",
       "      <td>5.733798e-16</td>\n",
       "      <td>3.126716e-17</td>\n",
       "      <td>7.415355e-16</td>\n",
       "      <td>5.614354e-16</td>\n",
       "      <td>-1.113035e-16</td>\n",
       "      <td>-1.375843e-15</td>\n",
       "      <td>-0.056151</td>\n",
       "      <td>0.034783</td>\n",
       "    </tr>\n",
       "    <tr>\n",
       "      <th>V20</th>\n",
       "      <td>-0.050866</td>\n",
       "      <td>1.036959e-16</td>\n",
       "      <td>-9.309954e-16</td>\n",
       "      <td>-9.429297e-16</td>\n",
       "      <td>-3.223123e-16</td>\n",
       "      <td>2.076048e-16</td>\n",
       "      <td>1.898638e-16</td>\n",
       "      <td>1.744242e-16</td>\n",
       "      <td>-1.095534e-16</td>\n",
       "      <td>-4.340941e-16</td>\n",
       "      <td>...</td>\n",
       "      <td>-1.120828e-15</td>\n",
       "      <td>1.105842e-15</td>\n",
       "      <td>4.986739e-16</td>\n",
       "      <td>1.637488e-16</td>\n",
       "      <td>-1.518242e-16</td>\n",
       "      <td>-2.975081e-16</td>\n",
       "      <td>-1.446069e-15</td>\n",
       "      <td>-1.133579e-16</td>\n",
       "      <td>0.339403</td>\n",
       "      <td>0.020090</td>\n",
       "    </tr>\n",
       "    <tr>\n",
       "      <th>V21</th>\n",
       "      <td>0.044736</td>\n",
       "      <td>-1.755072e-16</td>\n",
       "      <td>8.444409e-17</td>\n",
       "      <td>-2.971969e-17</td>\n",
       "      <td>-9.976950e-17</td>\n",
       "      <td>-1.368701e-16</td>\n",
       "      <td>-1.575903e-16</td>\n",
       "      <td>1.938604e-16</td>\n",
       "      <td>-2.412439e-16</td>\n",
       "      <td>4.578389e-17</td>\n",
       "      <td>...</td>\n",
       "      <td>1.000000e+00</td>\n",
       "      <td>3.905948e-15</td>\n",
       "      <td>6.127323e-16</td>\n",
       "      <td>1.298254e-16</td>\n",
       "      <td>-2.826293e-16</td>\n",
       "      <td>-4.907301e-16</td>\n",
       "      <td>-1.033403e-15</td>\n",
       "      <td>5.132234e-16</td>\n",
       "      <td>0.105999</td>\n",
       "      <td>0.040413</td>\n",
       "    </tr>\n",
       "    <tr>\n",
       "      <th>V22</th>\n",
       "      <td>0.144059</td>\n",
       "      <td>7.477367e-17</td>\n",
       "      <td>2.500830e-16</td>\n",
       "      <td>4.648259e-16</td>\n",
       "      <td>2.099922e-16</td>\n",
       "      <td>5.060029e-16</td>\n",
       "      <td>-3.362902e-16</td>\n",
       "      <td>-1.058131e-15</td>\n",
       "      <td>5.475559e-16</td>\n",
       "      <td>2.871855e-17</td>\n",
       "      <td>...</td>\n",
       "      <td>3.905948e-15</td>\n",
       "      <td>1.000000e+00</td>\n",
       "      <td>3.130812e-16</td>\n",
       "      <td>1.150829e-17</td>\n",
       "      <td>-6.078986e-16</td>\n",
       "      <td>-8.477050e-16</td>\n",
       "      <td>-1.294910e-16</td>\n",
       "      <td>-3.021376e-16</td>\n",
       "      <td>-0.064801</td>\n",
       "      <td>0.000805</td>\n",
       "    </tr>\n",
       "    <tr>\n",
       "      <th>V23</th>\n",
       "      <td>0.051142</td>\n",
       "      <td>9.808705e-16</td>\n",
       "      <td>1.059562e-16</td>\n",
       "      <td>2.115206e-17</td>\n",
       "      <td>6.002528e-17</td>\n",
       "      <td>1.637596e-16</td>\n",
       "      <td>-7.232186e-17</td>\n",
       "      <td>2.327911e-16</td>\n",
       "      <td>3.897104e-16</td>\n",
       "      <td>5.929286e-16</td>\n",
       "      <td>...</td>\n",
       "      <td>6.127323e-16</td>\n",
       "      <td>3.130812e-16</td>\n",
       "      <td>1.000000e+00</td>\n",
       "      <td>-4.411271e-17</td>\n",
       "      <td>-9.938362e-16</td>\n",
       "      <td>8.848700e-16</td>\n",
       "      <td>5.524044e-16</td>\n",
       "      <td>9.029821e-16</td>\n",
       "      <td>-0.112633</td>\n",
       "      <td>-0.002685</td>\n",
       "    </tr>\n",
       "    <tr>\n",
       "      <th>V24</th>\n",
       "      <td>-0.016182</td>\n",
       "      <td>7.354269e-17</td>\n",
       "      <td>-8.142354e-18</td>\n",
       "      <td>-9.351637e-17</td>\n",
       "      <td>2.229738e-16</td>\n",
       "      <td>-9.286095e-16</td>\n",
       "      <td>-1.261867e-15</td>\n",
       "      <td>-2.589727e-17</td>\n",
       "      <td>-1.802967e-16</td>\n",
       "      <td>-2.346385e-16</td>\n",
       "      <td>...</td>\n",
       "      <td>1.298254e-16</td>\n",
       "      <td>1.150829e-17</td>\n",
       "      <td>-4.411271e-17</td>\n",
       "      <td>1.000000e+00</td>\n",
       "      <td>1.557318e-15</td>\n",
       "      <td>3.129195e-16</td>\n",
       "      <td>-3.736529e-16</td>\n",
       "      <td>-2.259275e-16</td>\n",
       "      <td>0.005146</td>\n",
       "      <td>-0.007221</td>\n",
       "    </tr>\n",
       "    <tr>\n",
       "      <th>V25</th>\n",
       "      <td>-0.233083</td>\n",
       "      <td>-9.805358e-16</td>\n",
       "      <td>-4.261894e-17</td>\n",
       "      <td>4.771164e-16</td>\n",
       "      <td>5.394585e-16</td>\n",
       "      <td>5.625102e-16</td>\n",
       "      <td>1.081933e-15</td>\n",
       "      <td>1.174169e-15</td>\n",
       "      <td>-1.390791e-16</td>\n",
       "      <td>1.099645e-15</td>\n",
       "      <td>...</td>\n",
       "      <td>-2.826293e-16</td>\n",
       "      <td>-6.078986e-16</td>\n",
       "      <td>-9.938362e-16</td>\n",
       "      <td>1.557318e-15</td>\n",
       "      <td>1.000000e+00</td>\n",
       "      <td>2.810884e-15</td>\n",
       "      <td>-6.107118e-16</td>\n",
       "      <td>3.399375e-16</td>\n",
       "      <td>-0.047837</td>\n",
       "      <td>0.003308</td>\n",
       "    </tr>\n",
       "    <tr>\n",
       "      <th>V26</th>\n",
       "      <td>-0.041407</td>\n",
       "      <td>-8.621897e-17</td>\n",
       "      <td>2.601622e-16</td>\n",
       "      <td>6.521501e-16</td>\n",
       "      <td>-6.179751e-16</td>\n",
       "      <td>9.144690e-16</td>\n",
       "      <td>-2.378414e-16</td>\n",
       "      <td>-7.334507e-16</td>\n",
       "      <td>-1.209975e-16</td>\n",
       "      <td>-1.388725e-15</td>\n",
       "      <td>...</td>\n",
       "      <td>-4.907301e-16</td>\n",
       "      <td>-8.477050e-16</td>\n",
       "      <td>8.848700e-16</td>\n",
       "      <td>3.129195e-16</td>\n",
       "      <td>2.810884e-15</td>\n",
       "      <td>1.000000e+00</td>\n",
       "      <td>-3.383861e-16</td>\n",
       "      <td>-3.751403e-16</td>\n",
       "      <td>-0.003208</td>\n",
       "      <td>0.004455</td>\n",
       "    </tr>\n",
       "    <tr>\n",
       "      <th>V27</th>\n",
       "      <td>-0.005135</td>\n",
       "      <td>3.208233e-17</td>\n",
       "      <td>-4.478472e-16</td>\n",
       "      <td>6.239832e-16</td>\n",
       "      <td>-6.403423e-17</td>\n",
       "      <td>4.465960e-16</td>\n",
       "      <td>-2.623818e-16</td>\n",
       "      <td>-5.886825e-16</td>\n",
       "      <td>1.733633e-16</td>\n",
       "      <td>-2.287414e-16</td>\n",
       "      <td>...</td>\n",
       "      <td>-1.033403e-15</td>\n",
       "      <td>-1.294910e-16</td>\n",
       "      <td>5.524044e-16</td>\n",
       "      <td>-3.736529e-16</td>\n",
       "      <td>-6.107118e-16</td>\n",
       "      <td>-3.383861e-16</td>\n",
       "      <td>1.000000e+00</td>\n",
       "      <td>-3.770124e-16</td>\n",
       "      <td>0.028825</td>\n",
       "      <td>0.017580</td>\n",
       "    </tr>\n",
       "    <tr>\n",
       "      <th>V28</th>\n",
       "      <td>-0.009413</td>\n",
       "      <td>9.820892e-16</td>\n",
       "      <td>-3.676415e-16</td>\n",
       "      <td>7.726948e-16</td>\n",
       "      <td>-5.863664e-17</td>\n",
       "      <td>-3.299167e-16</td>\n",
       "      <td>4.813155e-16</td>\n",
       "      <td>-6.836764e-17</td>\n",
       "      <td>-4.484325e-16</td>\n",
       "      <td>9.146779e-16</td>\n",
       "      <td>...</td>\n",
       "      <td>5.132234e-16</td>\n",
       "      <td>-3.021376e-16</td>\n",
       "      <td>9.029821e-16</td>\n",
       "      <td>-2.259275e-16</td>\n",
       "      <td>3.399375e-16</td>\n",
       "      <td>-3.751403e-16</td>\n",
       "      <td>-3.770124e-16</td>\n",
       "      <td>1.000000e+00</td>\n",
       "      <td>0.010258</td>\n",
       "      <td>0.009536</td>\n",
       "    </tr>\n",
       "    <tr>\n",
       "      <th>Amount</th>\n",
       "      <td>-0.010596</td>\n",
       "      <td>-2.277087e-01</td>\n",
       "      <td>-5.314089e-01</td>\n",
       "      <td>-2.108805e-01</td>\n",
       "      <td>9.873167e-02</td>\n",
       "      <td>-3.863563e-01</td>\n",
       "      <td>2.159812e-01</td>\n",
       "      <td>3.973113e-01</td>\n",
       "      <td>-1.030791e-01</td>\n",
       "      <td>-4.424560e-02</td>\n",
       "      <td>...</td>\n",
       "      <td>1.059989e-01</td>\n",
       "      <td>-6.480065e-02</td>\n",
       "      <td>-1.126326e-01</td>\n",
       "      <td>5.146217e-03</td>\n",
       "      <td>-4.783686e-02</td>\n",
       "      <td>-3.208037e-03</td>\n",
       "      <td>2.882546e-02</td>\n",
       "      <td>1.025822e-02</td>\n",
       "      <td>1.000000</td>\n",
       "      <td>0.005632</td>\n",
       "    </tr>\n",
       "    <tr>\n",
       "      <th>Class</th>\n",
       "      <td>-0.012323</td>\n",
       "      <td>-1.013473e-01</td>\n",
       "      <td>9.128865e-02</td>\n",
       "      <td>-1.929608e-01</td>\n",
       "      <td>1.334475e-01</td>\n",
       "      <td>-9.497430e-02</td>\n",
       "      <td>-4.364316e-02</td>\n",
       "      <td>-1.872566e-01</td>\n",
       "      <td>1.987512e-02</td>\n",
       "      <td>-9.773269e-02</td>\n",
       "      <td>...</td>\n",
       "      <td>4.041338e-02</td>\n",
       "      <td>8.053175e-04</td>\n",
       "      <td>-2.685156e-03</td>\n",
       "      <td>-7.220907e-03</td>\n",
       "      <td>3.307706e-03</td>\n",
       "      <td>4.455398e-03</td>\n",
       "      <td>1.757973e-02</td>\n",
       "      <td>9.536041e-03</td>\n",
       "      <td>0.005632</td>\n",
       "      <td>1.000000</td>\n",
       "    </tr>\n",
       "  </tbody>\n",
       "</table>\n",
       "<p>31 rows × 31 columns</p>\n",
       "</div>"
      ],
      "text/plain": [
       "            Time            V1            V2            V3            V4  \\\n",
       "Time    1.000000  1.173963e-01 -1.059333e-02 -4.196182e-01 -1.052602e-01   \n",
       "V1      0.117396  1.000000e+00  4.697350e-17 -1.424390e-15  1.755316e-17   \n",
       "V2     -0.010593  4.697350e-17  1.000000e+00  2.512175e-16 -1.126388e-16   \n",
       "V3     -0.419618 -1.424390e-15  2.512175e-16  1.000000e+00 -3.416910e-16   \n",
       "V4     -0.105260  1.755316e-17 -1.126388e-16 -3.416910e-16  1.000000e+00   \n",
       "V5      0.173072  6.391162e-17 -2.039868e-16 -1.436514e-15 -1.940929e-15   \n",
       "V6     -0.063016  2.398071e-16  5.024680e-16  1.431581e-15 -2.712659e-16   \n",
       "V7      0.084714  1.991550e-15  3.966486e-16  2.168574e-15  1.556330e-16   \n",
       "V8     -0.036949 -9.490675e-17 -4.413984e-17  3.433113e-16  5.195643e-16   \n",
       "V9     -0.008660  2.169581e-16 -5.728718e-17 -4.233770e-16  3.859585e-16   \n",
       "V10     0.030617  7.433820e-17 -4.782388e-16  6.289267e-16  6.055490e-16   \n",
       "V11    -0.247689  2.438580e-16  9.468995e-16 -5.501758e-17 -2.083600e-16   \n",
       "V12     0.124348  2.422086e-16 -6.588252e-16  2.206522e-16 -5.657963e-16   \n",
       "V13    -0.065902 -2.115458e-16  3.854521e-16 -6.883375e-16 -1.506129e-16   \n",
       "V14    -0.098757  9.352582e-16 -2.541036e-16  4.271336e-16 -8.522435e-17   \n",
       "V15    -0.183453 -3.252451e-16  2.831060e-16  1.122756e-16 -1.507718e-16   \n",
       "V16     0.011903  6.308789e-16  4.934097e-17  1.183364e-15 -6.939204e-16   \n",
       "V17    -0.073297 -5.011524e-16 -9.883008e-16  4.576619e-17 -4.397925e-16   \n",
       "V18     0.090438  2.870125e-16  2.636654e-16  5.427965e-16  1.493667e-16   \n",
       "V19     0.028975  1.818128e-16  9.528280e-17  2.576773e-16 -2.656938e-16   \n",
       "V20    -0.050866  1.036959e-16 -9.309954e-16 -9.429297e-16 -3.223123e-16   \n",
       "V21     0.044736 -1.755072e-16  8.444409e-17 -2.971969e-17 -9.976950e-17   \n",
       "V22     0.144059  7.477367e-17  2.500830e-16  4.648259e-16  2.099922e-16   \n",
       "V23     0.051142  9.808705e-16  1.059562e-16  2.115206e-17  6.002528e-17   \n",
       "V24    -0.016182  7.354269e-17 -8.142354e-18 -9.351637e-17  2.229738e-16   \n",
       "V25    -0.233083 -9.805358e-16 -4.261894e-17  4.771164e-16  5.394585e-16   \n",
       "V26    -0.041407 -8.621897e-17  2.601622e-16  6.521501e-16 -6.179751e-16   \n",
       "V27    -0.005135  3.208233e-17 -4.478472e-16  6.239832e-16 -6.403423e-17   \n",
       "V28    -0.009413  9.820892e-16 -3.676415e-16  7.726948e-16 -5.863664e-17   \n",
       "Amount -0.010596 -2.277087e-01 -5.314089e-01 -2.108805e-01  9.873167e-02   \n",
       "Class  -0.012323 -1.013473e-01  9.128865e-02 -1.929608e-01  1.334475e-01   \n",
       "\n",
       "                  V5            V6            V7            V8            V9  \\\n",
       "Time    1.730721e-01 -6.301647e-02  8.471437e-02 -3.694943e-02 -8.660434e-03   \n",
       "V1      6.391162e-17  2.398071e-16  1.991550e-15 -9.490675e-17  2.169581e-16   \n",
       "V2     -2.039868e-16  5.024680e-16  3.966486e-16 -4.413984e-17 -5.728718e-17   \n",
       "V3     -1.436514e-15  1.431581e-15  2.168574e-15  3.433113e-16 -4.233770e-16   \n",
       "V4     -1.940929e-15 -2.712659e-16  1.556330e-16  5.195643e-16  3.859585e-16   \n",
       "V5      1.000000e+00  7.926364e-16 -4.209851e-16  7.589187e-16  4.205206e-16   \n",
       "V6      7.926364e-16  1.000000e+00  1.429426e-16 -1.707421e-16  1.114447e-16   \n",
       "V7     -4.209851e-16  1.429426e-16  1.000000e+00 -8.691834e-17  7.933251e-16   \n",
       "V8      7.589187e-16 -1.707421e-16 -8.691834e-17  1.000000e+00  2.900829e-16   \n",
       "V9      4.205206e-16  1.114447e-16  7.933251e-16  2.900829e-16  1.000000e+00   \n",
       "V10    -6.601716e-16  2.850776e-16  3.043333e-17  9.051847e-17 -2.771761e-16   \n",
       "V11     7.342759e-16  4.865799e-16 -1.084105e-15  1.954747e-16  4.682341e-16   \n",
       "V12     3.761033e-16  2.140589e-16  1.510045e-15 -6.266057e-17 -2.445230e-15   \n",
       "V13    -9.578659e-16 -2.268061e-16 -9.892325e-17 -2.382948e-16 -2.650351e-16   \n",
       "V14    -3.634803e-16  3.452801e-16 -1.729462e-16 -1.131098e-16  2.343317e-16   \n",
       "V15    -5.132620e-16 -6.368111e-18  1.936832e-17  2.021491e-16 -1.588105e-15   \n",
       "V16    -3.517076e-16 -2.477917e-16  2.893672e-16  5.027192e-16 -3.251906e-16   \n",
       "V17     1.425729e-16  3.567582e-16  1.149692e-15 -3.508777e-16  6.535992e-16   \n",
       "V18     1.109525e-15  2.811474e-16 -1.116789e-16 -4.093852e-16  1.203843e-16   \n",
       "V19    -3.138234e-16  2.717167e-16 -2.874017e-16 -5.339821e-16  1.120752e-16   \n",
       "V20     2.076048e-16  1.898638e-16  1.744242e-16 -1.095534e-16 -4.340941e-16   \n",
       "V21    -1.368701e-16 -1.575903e-16  1.938604e-16 -2.412439e-16  4.578389e-17   \n",
       "V22     5.060029e-16 -3.362902e-16 -1.058131e-15  5.475559e-16  2.871855e-17   \n",
       "V23     1.637596e-16 -7.232186e-17  2.327911e-16  3.897104e-16  5.929286e-16   \n",
       "V24    -9.286095e-16 -1.261867e-15 -2.589727e-17 -1.802967e-16 -2.346385e-16   \n",
       "V25     5.625102e-16  1.081933e-15  1.174169e-15 -1.390791e-16  1.099645e-15   \n",
       "V26     9.144690e-16 -2.378414e-16 -7.334507e-16 -1.209975e-16 -1.388725e-15   \n",
       "V27     4.465960e-16 -2.623818e-16 -5.886825e-16  1.733633e-16 -2.287414e-16   \n",
       "V28    -3.299167e-16  4.813155e-16 -6.836764e-17 -4.484325e-16  9.146779e-16   \n",
       "Amount -3.863563e-01  2.159812e-01  3.973113e-01 -1.030791e-01 -4.424560e-02   \n",
       "Class  -9.497430e-02 -4.364316e-02 -1.872566e-01  1.987512e-02 -9.773269e-02   \n",
       "\n",
       "        ...           V21           V22           V23           V24  \\\n",
       "Time    ...  4.473573e-02  1.440591e-01  5.114236e-02 -1.618187e-02   \n",
       "V1      ... -1.755072e-16  7.477367e-17  9.808705e-16  7.354269e-17   \n",
       "V2      ...  8.444409e-17  2.500830e-16  1.059562e-16 -8.142354e-18   \n",
       "V3      ... -2.971969e-17  4.648259e-16  2.115206e-17 -9.351637e-17   \n",
       "V4      ... -9.976950e-17  2.099922e-16  6.002528e-17  2.229738e-16   \n",
       "V5      ... -1.368701e-16  5.060029e-16  1.637596e-16 -9.286095e-16   \n",
       "V6      ... -1.575903e-16 -3.362902e-16 -7.232186e-17 -1.261867e-15   \n",
       "V7      ...  1.938604e-16 -1.058131e-15  2.327911e-16 -2.589727e-17   \n",
       "V8      ... -2.412439e-16  5.475559e-16  3.897104e-16 -1.802967e-16   \n",
       "V9      ...  4.578389e-17  2.871855e-17  5.929286e-16 -2.346385e-16   \n",
       "V10     ...  8.089504e-16 -6.707598e-16  3.809732e-16 -4.032806e-17   \n",
       "V11     ... -3.911893e-16 -3.811640e-17  2.232007e-16  1.219849e-15   \n",
       "V12     ...  3.229576e-16 -5.903992e-16  1.392162e-16  4.901644e-16   \n",
       "V13     ...  9.499130e-17 -2.659710e-17 -5.884304e-16 -5.470547e-16   \n",
       "V14     ...  1.634141e-17  3.439699e-16  7.620728e-17  2.335749e-16   \n",
       "V15     ...  1.947458e-17 -8.936817e-16  1.119827e-16 -4.589689e-16   \n",
       "V16     ... -3.927401e-16  3.878384e-17  8.519670e-16 -4.289239e-16   \n",
       "V17     ... -7.753967e-16 -8.389703e-16  5.367784e-16 -5.543631e-17   \n",
       "V18     ... -1.140973e-15 -8.662635e-17 -3.624236e-16 -1.126043e-16   \n",
       "V19     ...  4.032541e-16 -9.690436e-16  5.733798e-16  3.126716e-17   \n",
       "V20     ... -1.120828e-15  1.105842e-15  4.986739e-16  1.637488e-16   \n",
       "V21     ...  1.000000e+00  3.905948e-15  6.127323e-16  1.298254e-16   \n",
       "V22     ...  3.905948e-15  1.000000e+00  3.130812e-16  1.150829e-17   \n",
       "V23     ...  6.127323e-16  3.130812e-16  1.000000e+00 -4.411271e-17   \n",
       "V24     ...  1.298254e-16  1.150829e-17 -4.411271e-17  1.000000e+00   \n",
       "V25     ... -2.826293e-16 -6.078986e-16 -9.938362e-16  1.557318e-15   \n",
       "V26     ... -4.907301e-16 -8.477050e-16  8.848700e-16  3.129195e-16   \n",
       "V27     ... -1.033403e-15 -1.294910e-16  5.524044e-16 -3.736529e-16   \n",
       "V28     ...  5.132234e-16 -3.021376e-16  9.029821e-16 -2.259275e-16   \n",
       "Amount  ...  1.059989e-01 -6.480065e-02 -1.126326e-01  5.146217e-03   \n",
       "Class   ...  4.041338e-02  8.053175e-04 -2.685156e-03 -7.220907e-03   \n",
       "\n",
       "                 V25           V26           V27           V28    Amount  \\\n",
       "Time   -2.330828e-01 -4.140710e-02 -5.134591e-03 -9.412688e-03 -0.010596   \n",
       "V1     -9.805358e-16 -8.621897e-17  3.208233e-17  9.820892e-16 -0.227709   \n",
       "V2     -4.261894e-17  2.601622e-16 -4.478472e-16 -3.676415e-16 -0.531409   \n",
       "V3      4.771164e-16  6.521501e-16  6.239832e-16  7.726948e-16 -0.210880   \n",
       "V4      5.394585e-16 -6.179751e-16 -6.403423e-17 -5.863664e-17  0.098732   \n",
       "V5      5.625102e-16  9.144690e-16  4.465960e-16 -3.299167e-16 -0.386356   \n",
       "V6      1.081933e-15 -2.378414e-16 -2.623818e-16  4.813155e-16  0.215981   \n",
       "V7      1.174169e-15 -7.334507e-16 -5.886825e-16 -6.836764e-17  0.397311   \n",
       "V8     -1.390791e-16 -1.209975e-16  1.733633e-16 -4.484325e-16 -0.103079   \n",
       "V9      1.099645e-15 -1.388725e-15 -2.287414e-16  9.146779e-16 -0.044246   \n",
       "V10    -2.863813e-16 -2.554293e-16 -3.103239e-16 -1.515934e-16 -0.101502   \n",
       "V11    -4.567635e-16 -1.110976e-16 -2.635827e-16 -3.091914e-16  0.000104   \n",
       "V12     5.053736e-16 -5.759321e-16 -2.312619e-16  7.327446e-16 -0.009542   \n",
       "V13     8.066738e-17 -2.121518e-16 -4.520414e-16  1.049541e-15  0.005293   \n",
       "V14    -2.606783e-16 -6.580254e-18  1.285770e-16  2.503271e-15  0.033751   \n",
       "V15     3.869740e-16  3.761094e-16 -1.265235e-15 -1.063286e-15 -0.002986   \n",
       "V16    -6.644104e-16 -5.186503e-16  7.820038e-16  8.637186e-16 -0.003910   \n",
       "V17     4.822068e-16  4.870302e-16  8.844373e-16 -2.182692e-16  0.007309   \n",
       "V18    -2.310856e-16  3.183964e-16  2.435170e-16  8.844995e-16  0.035650   \n",
       "V19     7.415355e-16  5.614354e-16 -1.113035e-16 -1.375843e-15 -0.056151   \n",
       "V20    -1.518242e-16 -2.975081e-16 -1.446069e-15 -1.133579e-16  0.339403   \n",
       "V21    -2.826293e-16 -4.907301e-16 -1.033403e-15  5.132234e-16  0.105999   \n",
       "V22    -6.078986e-16 -8.477050e-16 -1.294910e-16 -3.021376e-16 -0.064801   \n",
       "V23    -9.938362e-16  8.848700e-16  5.524044e-16  9.029821e-16 -0.112633   \n",
       "V24     1.557318e-15  3.129195e-16 -3.736529e-16 -2.259275e-16  0.005146   \n",
       "V25     1.000000e+00  2.810884e-15 -6.107118e-16  3.399375e-16 -0.047837   \n",
       "V26     2.810884e-15  1.000000e+00 -3.383861e-16 -3.751403e-16 -0.003208   \n",
       "V27    -6.107118e-16 -3.383861e-16  1.000000e+00 -3.770124e-16  0.028825   \n",
       "V28     3.399375e-16 -3.751403e-16 -3.770124e-16  1.000000e+00  0.010258   \n",
       "Amount -4.783686e-02 -3.208037e-03  2.882546e-02  1.025822e-02  1.000000   \n",
       "Class   3.307706e-03  4.455398e-03  1.757973e-02  9.536041e-03  0.005632   \n",
       "\n",
       "           Class  \n",
       "Time   -0.012323  \n",
       "V1     -0.101347  \n",
       "V2      0.091289  \n",
       "V3     -0.192961  \n",
       "V4      0.133447  \n",
       "V5     -0.094974  \n",
       "V6     -0.043643  \n",
       "V7     -0.187257  \n",
       "V8      0.019875  \n",
       "V9     -0.097733  \n",
       "V10    -0.216883  \n",
       "V11     0.154876  \n",
       "V12    -0.260593  \n",
       "V13    -0.004570  \n",
       "V14    -0.302544  \n",
       "V15    -0.004223  \n",
       "V16    -0.196539  \n",
       "V17    -0.326481  \n",
       "V18    -0.111485  \n",
       "V19     0.034783  \n",
       "V20     0.020090  \n",
       "V21     0.040413  \n",
       "V22     0.000805  \n",
       "V23    -0.002685  \n",
       "V24    -0.007221  \n",
       "V25     0.003308  \n",
       "V26     0.004455  \n",
       "V27     0.017580  \n",
       "V28     0.009536  \n",
       "Amount  0.005632  \n",
       "Class   1.000000  \n",
       "\n",
       "[31 rows x 31 columns]"
      ]
     },
     "execution_count": 11,
     "metadata": {},
     "output_type": "execute_result"
    }
   ],
   "source": [
    "df_corr = ccdf.corr() \n",
    "df_corr"
   ]
  },
  {
   "cell_type": "code",
   "execution_count": 13,
   "metadata": {
    "_cell_guid": "f3fbb40b-c628-45bc-96df-599c83ea1a7f",
    "_uuid": "238eb36a153c7049fef3fd5f4f07f363b4aa92b9"
   },
   "outputs": [
    {
     "data": {
      "image/png": "[encoded data removed]",
      "text/plain": [
       "<Figure size 1296x864 with 2 Axes>"
      ]
     },
     "metadata": {},
     "output_type": "display_data"
    }
   ],
   "source": [
    "plt.figure(figsize=(18,12))\n",
    "seaborn.heatmap(df_corr) \n",
    "seaborn.set(font_scale=2,style='white')\n",
    "\n",
    "plt.title('Heatmap for the correlation among factors/variables')\n",
    "plt.show()"
   ]
  },
  {
   "cell_type": "markdown",
   "metadata": {
    "_cell_guid": "41acf9be-3920-47bd-88ec-14182bf970f8",
    "_uuid": "1628a54bdc8639aa5eae20dd6d7c7197fe1cfee5"
   },
   "source": []
  },
  {
   "cell_type": "markdown",
   "metadata": {
    "_cell_guid": "64510cda-f727-4c55-94e2-b5866b61ded6",
    "_uuid": "183412c2da2fac035008f37fd94509c1dd59a343"
   },
   "source": []
  },
  {
   "cell_type": "markdown",
   "metadata": {
    "_cell_guid": "2ba2b88a-7b27-4033-8e4a-73af650d1c06",
    "_uuid": "d82ba55efd1b473742de899c8dd6b2c3215b70db"
   },
   "source": []
  },
  {
   "cell_type": "code",
   "execution_count": 14,
   "metadata": {
    "_cell_guid": "513071fd-e5e9-4ad5-a45a-bfcfa9376cdc",
    "_uuid": "f5b17abf4e8a26f4f63f4379b1d0b2822b5a3c85"
   },
   "outputs": [],
   "source": [
    "dfrank = df_corr['Class'] \n",
    "df_rank = pd.DataFrame(dfrank) \n",
    "df_rank = np.abs(df_rank).sort_values(by='Class',ascending=False) \n",
    "                                                                  \n",
    "df_rank.dropna(inplace=True) "
   ]
  },
  {
   "cell_type": "code",
   "execution_count": null,
   "metadata": {
    "_cell_guid": "00e91ae9-d53a-40af-a48a-095a4b67dff9",
    "_uuid": "5a154f92f11ecfd72ad4eb2406ead5c24a9d00e3"
   },
   "outputs": [],
   "source": []
  },
  {
   "cell_type": "markdown",
   "metadata": {
    "_cell_guid": "a0432f2f-3926-46a0-ac53-a46cf05bb9c8",
    "_uuid": "ecc0c8cd3849db0cbce7dc35e2ab532d13cc052a"
   },
   "source": []
  },
  {
   "cell_type": "code",
   "execution_count": null,
   "metadata": {
    "_cell_guid": "26829a30-0c31-4495-8b16-e96624583a3f",
    "_uuid": "f2b9e864a17a8686b39024341699622a7988d4ff"
   },
   "outputs": [],
   "source": []
  },
  {
   "cell_type": "code",
   "execution_count": null,
   "metadata": {
    "_cell_guid": "e87fe2fe-dad5-458a-940b-d94e25e150f8",
    "_uuid": "7ba4b96fce4f0ecbcfc16781dce514baee56e58e"
   },
   "outputs": [],
   "source": []
  },
  {
   "cell_type": "code",
   "execution_count": null,
   "metadata": {
    "_cell_guid": "e08a9f1e-090b-402d-b5a3-05ece4881a60",
    "_uuid": "e109c99ad8ae57199c62806c2d5cedb3aa481c41"
   },
   "outputs": [],
   "source": []
  },
  {
   "cell_type": "code",
   "execution_count": 18,
   "metadata": {
    "_cell_guid": "679f5dd1-5665-4de2-942b-6ac95ff1a02f",
    "_uuid": "d5b23951407345e6a89ca312967e582c66e11af3"
   },
   "outputs": [
    {
     "name": "stdout",
     "output_type": "stream",
     "text": [
      "The dataset have 356 frauds so we need to take a similar number of non-fraud\n"
     ]
    }
   ],
   "source": [
    "\n",
    "df_train_alldf = ccdf[0:160000] \n",
    "df_train_1_label = df_train_alldf[df_train_alldf['Class'] == 1] \n",
    "df_train_0_label = df_train_alldf[df_train_alldf['Class'] == 0]\n",
    "print('The dataset have ' + str(len(df_train_1_label)) +\" frauds so we need to take a similar number of non-fraud\")\n",
    "\n",
    "df_sample=df_train_0_label.sample(300)\n",
    "df_train = df_train_1_label.append(df_sample)  \n",
    "df_train = df_train.sample(frac=1)"
   ]
  },
  {
   "cell_type": "code",
   "execution_count": 19,
   "metadata": {
    "_cell_guid": "36f77663-2b2a-412f-a759-0fd3a0bf06ab",
    "_uuid": "d9707da7dc04b2a415608f2833dd5d732dd98925"
   },
   "outputs": [],
   "source": [
    "X_train = df_train.drop(['Time', 'Class'],axis=1) \n",
    "y_train = df_train['Class']\n",
    "X_train = np.asarray(X_train)\n",
    "y_train = np.asarray(y_train)"
   ]
  },
  {
   "cell_type": "code",
   "execution_count": 21,
   "metadata": {
    "_cell_guid": "d7c350a4-6874-46b8-b699-4c27aa42dade",
    "_uuid": "975a023dc24a60832b3a670aecf2dbe3b9390183"
   },
   "outputs": [],
   "source": [
    "df_test_all = ccdf[140000:]\n",
    "\n",
    "X_tst_a = df_test_all.drop(['Time', 'Class'],axis=1)\n",
    "y_test_all = df_test_all['Class']\n",
    "X_tst_a = np.asarray(X_tst_a)\n",
    "y_test_all = np.asarray(y_test_all)"
   ]
  },
  {
   "cell_type": "markdown",
   "metadata": {
    "_cell_guid": "0b4284ab-89fc-4992-919b-b2fce118c601",
    "_uuid": "6506e5ce2aaa631f98c3290a6a35bd2cdc16a62d"
   },
   "source": []
  },
  {
   "cell_type": "code",
   "execution_count": 22,
   "metadata": {
    "_cell_guid": "d7246290-1ada-4be9-87a3-833620d23e04",
    "_uuid": "274f5e99f592cdc487e39eb60419a17a1cada5fe"
   },
   "outputs": [],
   "source": [
    "X_train_rank = df_train[df_rank.index[1:11]] \n",
    "X_train_rank = np.asarray(X_train_rank)"
   ]
  },
  {
   "cell_type": "code",
   "execution_count": 23,
   "metadata": {
    "_cell_guid": "1c9addbe-d94c-44e8-84a9-1afdd13291be",
    "_uuid": "7a28465f8d7a4577ca6f4d1eb1f372a87da87c63"
   },
   "outputs": [],
   "source": [
    "X_tst_a_rank = df_test_all[df_rank.index[1:11]]\n",
    "X_tst_a_rank = np.asarray(X_tst_a_rank)\n",
    "y_test_all = np.asarray(y_test_all)"
   ]
  },
  {
   "cell_type": "markdown",
   "metadata": {
    "_cell_guid": "c54c8f9f-9301-4a96-9c8b-1845946187ff",
    "_uuid": "a6896c291abc000d9d642fcc65bb93d45b118236"
   },
   "source": [
    "# Confusion Matrix"
   ]
  },
  {
   "cell_type": "code",
   "execution_count": 24,
   "metadata": {
    "_cell_guid": "e298b2fd-6569-4e38-97b1-227a0960e4fe",
    "_uuid": "55d1987b1b3963fb9ca5fd1142faae095dfa338b"
   },
   "outputs": [],
   "source": [
    "class_names=np.array(['0','1']) \n",
    "#Label, Class = 1 (fraud) and Class = 0 (no fraud)"
   ]
  },
  {
   "cell_type": "code",
   "execution_count": 25,
   "metadata": {
    "_cell_guid": "c57ed880-9e78-4620-9158-bfe626bf75f6",
    "_uuid": "a484397df965faf0e489e17a7e0b0ccf36c8bf84"
   },
   "outputs": [],
   "source": [
    "def plt_conf_matrix(cmtfac, classes,\n",
    "                          title='Confusion matrix',\n",
    "                          cmtfacap=plt.cmtfac.Blues):\n",
    "    \n",
    "    plt.imshow(cmtfac, interpolation='nearest', cmtfacap=cmtfacap)\n",
    "    plt.title(title)\n",
    "    plt.colorbar()\n",
    "    tick_marks = np.arange(len(classes))\n",
    "    plt.xticks(tick_marks, classes, rotation=45)\n",
    "    plt.yticks(tick_marks, classes)\n",
    "\n",
    "    fmt = 'd' \n",
    "    thresh = cmtfac.max() / 2.\n",
    "    for i, j in itertools.product(range(cmtfac.shape[0]), range(cmtfac.shape[1])):\n",
    "        plt.text(j, i, format(cmtfac[i, j], fmt),\n",
    "                 horizontalalignment=\"center\",\n",
    "                 color=\"white\" if cmtfac[i, j] > thresh else \"black\")\n",
    "\n",
    "    plt.tight_layout()\n",
    "    plt.ylabel('True label')\n",
    "    plt.xlabel('Predicted label')"
   ]
  },
  {
   "cell_type": "markdown",
   "metadata": {
    "_cell_guid": "f7de7e6f-e51d-4e83-9d4e-6b0abdd2c726",
    "_uuid": "95ccdb3d1da9c590cb7b984f7f7a3151c316509c"
   },
   "source": []
  },
  {
   "cell_type": "markdown",
   "metadata": {
    "_cell_guid": "08c5814b-f154-476b-a91b-09682911a7fc",
    "_uuid": "940007266bccc4c732bfe0d990e7307eddb53293",
    "scrolled": true
   },
   "source": []
  },
  {
   "cell_type": "code",
   "execution_count": 26,
   "metadata": {
    "_cell_guid": "1402594d-a2bf-4bef-a4b1-ffbada37e8b6",
    "_uuid": "54b464be3bacc3a8730ef22a44de83979a541952"
   },
   "outputs": [],
   "source": [
    "classifier = svm.SVC(kernel='linear') "
   ]
  },
  {
   "cell_type": "code",
   "execution_count": 27,
   "metadata": {
    "_cell_guid": "671a5ed5-1103-4dd7-b7ef-f4959320b9b8",
    "_uuid": "ae95b7f9abb4c55f97a7b0e844966d766acd14e1"
   },
   "outputs": [
    {
     "data": {
      "text/plain": [
       "SVC(kernel='linear')"
      ]
     },
     "execution_count": 27,
     "metadata": {},
     "output_type": "execute_result"
    }
   ],
   "source": [
    "classifier.fit(X_train, y_train) "
   ]
  },
  {
   "cell_type": "code",
   "execution_count": null,
   "metadata": {
    "_cell_guid": "33fd5429-184a-40ac-9b4f-cc66300eb75d",
    "_uuid": "06c6624cc3199d8c61aa462a1ac5daea1af5f044"
   },
   "outputs": [],
   "source": []
  },
  {
   "cell_type": "code",
   "execution_count": 28,
   "metadata": {
    "_cell_guid": "b7f42a0d-5dc2-482e-83dd-95be0b709fae",
    "_uuid": "06c4a00a2aeb9989135ef954ade5bf1dd750f8ce"
   },
   "outputs": [],
   "source": [
    "prediction_SVM_all = classifier.predict(X_tst_a) "
   ]
  },
  {
   "cell_type": "code",
   "execution_count": 33,
   "metadata": {
    "_cell_guid": "5558cbc6-e22c-4748-8640-35cd43358d1c",
    "_uuid": "cf58f6438e736b63903773caf38cd364a73178d4"
   },
   "outputs": [
    {
     "data": {
      "image/png": "[encoded data removed]",
      "text/plain": [
       "<Figure size 432x288 with 2 Axes>"
      ]
     },
     "metadata": {},
     "output_type": "display_data"
    }
   ],
   "source": [
    "cmtfac = confusion_matrix(y_test_all, prediction_SVM_all)\n",
    "plt_conf_matrix(cmtfac,class_names)"
   ]
  },
  {
   "cell_type": "code",
   "execution_count": null,
   "metadata": {
    "_cell_guid": "fcc81707-fc91-4a66-945b-93fb7423dfcd",
    "_uuid": "9866599a18a5ff8286d8fac8ce2dd7213ae2d310"
   },
   "outputs": [],
   "source": []
  },
  {
   "cell_type": "code",
   "execution_count": null,
   "metadata": {
    "_cell_guid": "93871f02-4e10-4ae4-9724-0d673e56c255",
    "_uuid": "b164a5ed0b0b36739ad8b96052a14d515bb277e9"
   },
   "outputs": [],
   "source": []
  },
  {
   "cell_type": "code",
   "execution_count": 38,
   "metadata": {
    "_cell_guid": "21cde17a-738a-4c75-a6b3-16b4c055188b",
    "_uuid": "7000a8cec37987f50f8e398e48894c5ece0a7470"
   },
   "outputs": [
    {
     "name": "stdout",
     "output_type": "stream",
     "text": [
      "Our criterion give a result of 0.9340880220605794\n"
     ]
    }
   ],
   "source": [
    "print('Our criterion give a result of ' \n",
    "      + str( ( (cmtfac[0][0]+cmtfac[1][1]) / (sum(cmtfac[0]) + sum(cmtfac[1])) + 4 * cmtfac[1][1]/(cmtfac[1][0]+cmtfac[1][1])) / 5))"
   ]
  },
  {
   "cell_type": "code",
   "execution_count": 39,
   "metadata": {
    "_cell_guid": "08447323-4ed7-4e29-a3c1-c86682ff63f0",
    "_uuid": "7c7bb0d2cfffdbdbe10df915a429c88e36a60957"
   },
   "outputs": [
    {
     "name": "stdout",
     "output_type": "stream",
     "text": [
      "Detected 212 frauds / 228 total frauds.\n",
      "\n",
      "So, the probability to detect a fraud is 0.9298245614035088\n",
      "the accuracy is : 0.9511418646888617\n"
     ]
    }
   ],
   "source": [
    "print('Detected ' + str(cmtfac[1][1]) + ' frauds / ' + str(cmtfac[1][1]+cmtfac[1][0]) + ' total frauds.')\n",
    "print('\\nSo, the probability to detect a fraud is ' + str(cmtfac[1][1]/(cmtfac[1][1]+cmtfac[1][0])))\n",
    "print(\"the accuracy is : \"+str((cmtfac[0][0]+cmtfac[1][1]) / (sum(cmtfac[0]) + sum(cmtfac[1]))))"
   ]
  },
  {
   "cell_type": "markdown",
   "metadata": {
    "_cell_guid": "087b8a01-6a00-4bdd-ade9-08a3b5cd198b",
    "_uuid": "13428d627950722f5c2dab060549bdd519a2981a"
   },
   "source": []
  },
  {
   "cell_type": "code",
   "execution_count": null,
   "metadata": {
    "_cell_guid": "37124bd8-5865-4ddc-b04f-f6d899340968",
    "_uuid": "7bfed5e996206e6863601fcaa09761baf68fb361"
   },
   "outputs": [],
   "source": []
  },
  {
   "cell_type": "code",
   "execution_count": 41,
   "metadata": {
    "_cell_guid": "5e73fef0-c4d4-450b-9961-e841767e0342",
    "_uuid": "b4247cb1dd4d7af91421d01f7067898799fdbfd8"
   },
   "outputs": [],
   "source": [
    "classifier.fit(X_train_rank, y_train) \n",
    "prediction_SVM = classifier.predict(X_test_all_rank) "
   ]
  },
  {
   "cell_type": "code",
   "execution_count": 43,
   "metadata": {
    "_cell_guid": "e84710c9-59fe-4205-8c05-e989d5942712",
    "_uuid": "bb4defbee6e8ebaff98eebaff7701503d2b65434"
   },
   "outputs": [
    {
     "data": {
      "image/png": "[encoded data removed]",
      "text/plain": [
       "<Figure size 432x288 with 2 Axes>"
      ]
     },
     "metadata": {},
     "output_type": "display_data"
    }
   ],
   "source": [
    "cmtfac = confusion_matrix(y_test_all, prediction_SVM)\n",
    "plt_conf_matrix(cmtfac,class_names)"
   ]
  },
  {
   "cell_type": "code",
   "execution_count": 44,
   "metadata": {
    "_cell_guid": "d310bf29-6673-4882-8387-e4b6fb53ee86",
    "_uuid": "a0d4e792c37722f84d9b55432b286bfcafec1293"
   },
   "outputs": [
    {
     "name": "stdout",
     "output_type": "stream",
     "text": [
      "Our criterion give a result of 0.9264538316517849\n"
     ]
    }
   ],
   "source": [
    "print('Our criterion give a result of ' \n",
    "      + str( ( (cmtfac[0][0]+cmtfac[1][1]) / (sum(cmtfac[0]) + sum(cmtfac[1])) + 4 * cmtfac[1][1]/(cmtfac[1][0]+cmtfac[1][1])) / 5))"
   ]
  },
  {
   "cell_type": "code",
   "execution_count": 45,
   "metadata": {
    "_cell_guid": "9fb3cb24-8f70-423c-89c7-aa91d15172ad",
    "_uuid": "f39c12ef5d8c91185b1873483fd93e26c13c3cab"
   },
   "outputs": [
    {
     "name": "stdout",
     "output_type": "stream",
     "text": [
      "We have detected 209 frauds / 228 total frauds.\n",
      "\n",
      "So, the probability to detect a fraud is 0.9166666666666666\n",
      "the accuracy is : 0.9656024915922573\n"
     ]
    }
   ],
   "source": [
    "print('We have detected ' + str(cmtfac[1][1]) + ' frauds / ' + str(cmtfac[1][1]+cmtfac[1][0]) + ' total frauds.')\n",
    "print('\\nSo, the probability to detect a fraud is ' + str(cmtfac[1][1]/(cmtfac[1][1]+cmtfac[1][0])))\n",
    "print(\"the accuracy is : \"+str((cmtfac[0][0]+cmtfac[1][1]) / (sum(cmtfac[0]) + sum(cmtfac[1]))))"
   ]
  },
  {
   "cell_type": "code",
   "execution_count": null,
   "metadata": {
    "_cell_guid": "74782013-18d1-4afb-8d3c-67dc8cae17d2",
    "_uuid": "6b8d59c2aa9b0a07112a405d063120dc0e20e338"
   },
   "outputs": [],
   "source": []
  },
  {
   "cell_type": "code",
   "execution_count": null,
   "metadata": {
    "_cell_guid": "66ca64cd-078d-4a1c-8ecd-d85a247ef5f3",
    "_uuid": "a38206000a28bcc2baf07d0d8e10f7eb1256f993"
   },
   "outputs": [],
   "source": []
  },
  {
   "cell_type": "markdown",
   "metadata": {
    "_cell_guid": "10579138-58f9-41db-b5a7-25f6c4741900",
    "_uuid": "6cd3881e06f80ba87e4377c525572db1585e1c84"
   },
   "source": []
  },
  {
   "cell_type": "code",
   "execution_count": 46,
   "metadata": {
    "_cell_guid": "33f60bc0-38c6-4ee7-a348-e2254bca727c",
    "_uuid": "5c36459b8b55ab20a57097d820f7f24a856c20f7"
   },
   "outputs": [],
   "source": [
    "classifier_b = svm.SVC(kernel='linear',class_weight={0:0.60, 1:0.40})"
   ]
  },
  {
   "cell_type": "code",
   "execution_count": 47,
   "metadata": {
    "_cell_guid": "07b6b2e3-4cd2-4202-b2a9-3d22edadf650",
    "_uuid": "4b29ebf3f9fd2e591498e747d453297ccc9d95f0"
   },
   "outputs": [
    {
     "data": {
      "text/plain": [
       "SVC(class_weight={0: 0.6, 1: 0.4}, kernel='linear')"
      ]
     },
     "execution_count": 47,
     "metadata": {},
     "output_type": "execute_result"
    }
   ],
   "source": [
    "classifier_b.fit(X_train, y_train) "
   ]
  },
  {
   "cell_type": "code",
   "execution_count": null,
   "metadata": {
    "_cell_guid": "711f7353-4f8d-494e-a2e3-e24c69da17a8",
    "_uuid": "f441734ba20be6e81ead1f4fb1196c09095cc4f6"
   },
   "outputs": [],
   "source": []
  },
  {
   "cell_type": "code",
   "execution_count": 49,
   "metadata": {
    "_cell_guid": "63406a9e-e7f7-4bbe-9945-55daf2c384a8",
    "_uuid": "c2b29f36198561711dd23cdef243bd7d9b41bce7"
   },
   "outputs": [],
   "source": [
    "prediction_SVM_b_all = classifier_b.predict(X_test_all) "
   ]
  },
  {
   "cell_type": "code",
   "execution_count": 51,
   "metadata": {
    "_cell_guid": "42f417eb-5c5c-4d1d-af59-349d17d77f6f",
    "_uuid": "e462d0526a115a87d27f8a1c24bbb6fd3b9e9eeb"
   },
   "outputs": [
    {
     "data": {
      "image/png": "[encoded data removed]",
      "text/plain": [
       "<Figure size 432x288 with 2 Axes>"
      ]
     },
     "metadata": {},
     "output_type": "display_data"
    }
   ],
   "source": [
    "cmtfac = confusion_matrix(y_test_all, prediction_SVM_b_all)\n",
    "plt_conf_matrix(cmtfac,class_names)"
   ]
  },
  {
   "cell_type": "code",
   "execution_count": 52,
   "metadata": {
    "_cell_guid": "9aa0594f-88da-4015-a712-c4e378d276c9",
    "_uuid": "5f80761a24cf70ac29bbf3650a7db0ae6c273600"
   },
   "outputs": [
    {
     "name": "stdout",
     "output_type": "stream",
     "text": [
      "Result of 0.929673943503022\n"
     ]
    }
   ],
   "source": [
    "print('Result of ' \n",
    "      + str( ( (cmtfac[0][0]+cmtfac[1][1]) / (sum(cmtfac[0]) + sum(cmtfac[1])) + 4 * cmtfac[1][1]/(cmtfac[1][0]+cmtfac[1][1])) / 5))"
   ]
  },
  {
   "cell_type": "code",
   "execution_count": 53,
   "metadata": {
    "_cell_guid": "d03a28ad-b9e1-4c2c-bed2-06308b1816cf",
    "_uuid": "3d674db8f4eeb8ed4a8583e3d5cd40f8561ae33d"
   },
   "outputs": [
    {
     "name": "stdout",
     "output_type": "stream",
     "text": [
      "We have detected 210 frauds / 228 total frauds.\n",
      "\n",
      "So, the probability to detect a fraud is 0.9210526315789473\n",
      "the accuracy is : 0.9641591911993205\n"
     ]
    }
   ],
   "source": [
    "print('We have detected ' + str(cmtfac[1][1]) + ' frauds / ' + str(cmtfac[1][1]+cmtfac[1][0]) + ' total frauds.')\n",
    "print('\\nSo, the probability to detect a fraud is ' + str(cmtfac[1][1]/(cmtfac[1][1]+cmtfac[1][0])))\n",
    "print(\"the accuracy is : \"+str((cmtfac[0][0]+cmtfac[1][1]) / (sum(cmtfac[0]) + sum(cmtfac[1]))))"
   ]
  },
  {
   "cell_type": "code",
   "execution_count": null,
   "metadata": {
    "_cell_guid": "7950e244-844f-418c-9898-2f06756dc125",
    "_uuid": "f31fdcb8899711ce15b5a0760eced5741a9e1d97"
   },
   "outputs": [],
   "source": []
  },
  {
   "cell_type": "code",
   "execution_count": 55,
   "metadata": {
    "_cell_guid": "ef932b2b-72bf-47df-9157-ae3249665467",
    "_uuid": "9d241abdaded4809eafe7e2c885150e63f4ae4d0"
   },
   "outputs": [],
   "source": [
    "classifier_b.fit(X_train_rank, y_train) \n",
    "prediction_SVM = classifier_b.predict(X_test_all_rank) "
   ]
  },
  {
   "cell_type": "code",
   "execution_count": 67,
   "metadata": {
    "_cell_guid": "a9ce5f16-08b3-4932-89ee-1ed934684482",
    "_uuid": "3e6542b40144dbef93f27144198299e9b7a84bbe"
   },
   "outputs": [
    {
     "data": {
      "image/png": "[encoded data removed]",
      "text/plain": [
       "<Figure size 432x288 with 2 Axes>"
      ]
     },
     "metadata": {},
     "output_type": "display_data"
    }
   ],
   "source": [
    "cmtfac = confusion_matrix(y_test_all, prediction_SVM)\n",
    "plot_confusion_matrix(cmtfac,class_names)"
   ]
  },
  {
   "cell_type": "code",
   "execution_count": 56,
   "metadata": {
    "_cell_guid": "ff879d9e-b9c3-40b7-a9a6-dae5ce11a88e",
    "_uuid": "653485d7a5c7feb2052321b7a05b4415b63fdac8"
   },
   "outputs": [
    {
     "name": "stdout",
     "output_type": "stream",
     "text": [
      "The model accuracy is 0.929673943503022\n"
     ]
    }
   ],
   "source": [
    "print('The model accuracy is ' \n",
    "      + str( ( (cmtfac[0][0]+cmtfac[1][1]) / (sum(cmtfac[0]) + sum(cmtfac[1])) + 4 * cmtfac[1][1]/(cmtfac[1][0]+cmtfac[1][1])) / 5))"
   ]
  },
  {
   "cell_type": "code",
   "execution_count": 59,
   "metadata": {
    "_cell_guid": "6aa458bb-3314-492b-b9c3-4d811c5a2db5",
    "_uuid": "725c2ff781e0a1c86eb160eeab0da9723aee91cc"
   },
   "outputs": [
    {
     "name": "stdout",
     "output_type": "stream",
     "text": [
      "We have detected 210 frauds among  228 total frauds.\n",
      "\n",
      " Therefore probability for this model to detect fraud is 0.9210526315789473\n",
      "the accuracy is : 0.9641591911993205\n"
     ]
    }
   ],
   "source": [
    "print('We have detected ' + str(cmtfac[1][1]) + ' frauds among  ' + str(cmtfac[1][1]+cmtfac[1][0]) + ' total frauds.')\n",
    "print('\\n Therefore probability for this model to detect fraud is ' + str(cmtfac[1][1]/(cmtfac[1][1]+cmtfac[1][0])))\n",
    "print(\"the accuracy is : \"+str((cmtfac[0][0]+cmtfac[1][1]) / (sum(cmtfac[0]) + sum(cmtfac[1]))))"
   ]
  },
  {
   "cell_type": "code",
   "execution_count": null,
   "metadata": {},
   "outputs": [],
   "source": []
  }
 ],
 "metadata": {
  "anaconda-cloud": {},
  "kernelspec": {
   "display_name": "Python 3",
   "language": "python",
   "name": "python3"
  },
  "language_info": {
   "codemirror_mode": {
    "name": "ipython",
    "version": 3
   },
   "file_extension": ".py",
   "mimetype": "text/x-python",
   "name": "python",
   "nbconvert_exporter": "python",
   "pygments_lexer": "ipython3",
   "version": "3.8.5"
  },
  "toc": {
   "base_numbering": 1,
   "nav_menu": {},
   "number_sections": true,
   "sideBar": true,
   "skip_h1_title": false,
   "title_cell": "Table of Contents",
   "title_sidebar": "Contents",
   "toc_cell": false,
   "toc_position": {},
   "toc_section_display": true,
   "toc_window_display": false
  },
  "varInspector": {
   "cols": {
    "lenName": 16,
    "lenType": 16,
    "lenVar": 40
   },
   "kernels_config": {
    "python": {
     "delete_cmd_postfix": "",
     "delete_cmd_prefix": "del ",
     "library": "var_list.py",
     "varRefreshCmd": "print(var_dic_list())"
    },
    "r": {
     "delete_cmd_postfix": ") ",
     "delete_cmd_prefix": "rm(",
     "library": "var_list.r",
     "varRefreshCmd": "cat(var_dic_list()) "
    }
   },
   "types_to_exclude": [
    "module",
    "function",
    "builtin_function_or_method",
    "instance",
    "_Feature"
   ],
   "window_display": false
  }
 },
 "nbformat": 4,
 "nbformat_minor": 1
}
